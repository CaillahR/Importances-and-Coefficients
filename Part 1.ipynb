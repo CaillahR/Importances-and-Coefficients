{
 "cells": [
  {
   "cell_type": "markdown",
   "id": "dac9b3db",
   "metadata": {},
   "source": [
    "Data Dictionary\n",
    "Variable Name Description:\n",
    "\n",
    "- Item_Identifier: Unique product ID\n",
    "- Item_Weight: Weight of product\n",
    "- Item_Fat_Content: Whether the product is low fat or regular\n",
    "- Item_Visibility: The percentage of total display area of all products in a store allocated to the particular product\n",
    "- Item_Type: The category to which the product belongs\n",
    "- Item_MRP: Maximum Retail Price (list price) of the product\n",
    "- Outlet_Identifier: Unique store ID\n",
    "- Outlet_Establishment_Year: The year in which store was established\n",
    "- Outlet_Size: The size of the store in terms of ground area covered\n",
    "- Outlet_Location_Type: The type of area in which the store is located\n",
    "- Outlet_Type: Whether the outlet is a grocery store or some sort of supermarket\n",
    "- Item_Outlet_Sales: Sales of the product in the particular store. This is the target variable to be predicted."
   ]
  },
  {
   "cell_type": "markdown",
   "id": "1c92bd55",
   "metadata": {
    "heading_collapsed": true
   },
   "source": [
    "# Import"
   ]
  },
  {
   "cell_type": "code",
   "execution_count": 1,
   "id": "44b3b550",
   "metadata": {
    "hidden": true
   },
   "outputs": [],
   "source": [
    "#Import\n",
    "import matplotlib.pyplot as plt\n",
    "from sklearn import set_config\n",
    "from sklearn.metrics import mean_absolute_error, mean_squared_error, r2_score\n",
    "import seaborn as sns\n",
    "import pandas as pd\n",
    "import numpy as np\n",
    "from sklearn.preprocessing import StandardScaler, OneHotEncoder\n",
    "from sklearn.impute import SimpleImputer\n",
    "from sklearn.compose import make_column_transformer, make_column_selector\n",
    "from sklearn.pipeline import make_pipeline\n",
    "from sklearn.model_selection import train_test_split\n",
    "from sklearn import set_config\n",
    "from sklearn.linear_model import LinearRegression\n",
    "from sklearn import metrics\n",
    "from sklearn.tree import DecisionTreeRegressor\n",
    "from sklearn.ensemble import RandomForestRegressor\n",
    "import joblib\n",
    "set_config(display='diagram')\n",
    "## Importing Custom Functions\n",
    "%reload_ext autoreload\n",
    "%autoreload 2\n",
    "from CODE import data_enrichment as de\n",
    "filename = \"Data/sales_predictions.csv\"\n",
    "df = pd.read_csv(filename)\n"
   ]
  },
  {
   "cell_type": "markdown",
   "id": "d2838124",
   "metadata": {},
   "source": [
    "# Functions"
   ]
  },
  {
   "cell_type": "code",
   "execution_count": 2,
   "id": "e3a17954",
   "metadata": {},
   "outputs": [],
   "source": [
    "def model_metrics(pipe, x_train, y_train, x_test, y_test, \n",
    "                       model_name='Regression Model', ):\n",
    "  ## Train\n",
    "  mae = mean_absolute_error(y_train, pipe.predict(x_train))\n",
    "  mse = mean_squared_error(y_train, pipe.predict(x_train))\n",
    "  rmse = np.sqrt(mean_squared_error(y_train, pipe.predict(x_train)))\n",
    "  r2 = r2_score(y_train, pipe.predict(x_train))\n",
    "  print(f'{model_name} Train Scores')\n",
    "  print(f'MAE: {mae:,.4f} \\nMSE: {mse:,.4f} \\nRMSE: {rmse:,.4f} \\nR2: {r2:.4f}\\n')\n",
    "\n",
    "  ## Test\n",
    "  mae = mean_absolute_error(y_test, pipe.predict(x_test))\n",
    "  mse = mean_squared_error(y_test, pipe.predict(x_test))\n",
    "  rmse = np.sqrt(mean_squared_error(y_test, pipe.predict(x_test)))\n",
    "  r2 = r2_score(y_test, pipe.predict(x_test))\n",
    "\n",
    "  # Display the metrics for the model\n",
    "  print(f'{model_name} Test Scores')\n",
    "  print(f'MAE: {mae:,.4f} \\nMSE: {mse:,.4f} \\nRMSE: {rmse:,.4f} \\nR2: {r2:.4f}\\n')\n",
    "  "
   ]
  },
  {
   "cell_type": "code",
   "execution_count": 3,
   "id": "60eab44c",
   "metadata": {},
   "outputs": [],
   "source": [
    "def get_coefficients(lin_reg):\n",
    "    coefs = lin_reg.coef_\n",
    "    coefs = pd.Series(coefs, index=lin_reg.feature_names_in_)\n",
    "    return coefs"
   ]
  },
  {
   "cell_type": "code",
   "execution_count": 4,
   "id": "845a756e",
   "metadata": {},
   "outputs": [],
   "source": [
    "def annotate_hbars(ax, ha='left', va='center', size=12, xytext=(4,0),\n",
    "                  textcoords='offset points'):\n",
    "    for bar in ax.patches:\n",
    "    \n",
    "        ## calculate center of bar\n",
    "        bar_ax = bar.get_y() + bar.get_height() / 2\n",
    "        ## get the value to annotate\n",
    "        val = bar.get_width()\n",
    "        if val < 0:\n",
    "            val_pos = 0\n",
    "        else:\n",
    "            val_pos = val\n",
    "        # ha and va stand for the horizontal and vertical alignment\n",
    "        ax.annotate(f\"{val:.3f}\", (val_pos,bar_ax), ha=ha, va=va, size=size,\n",
    "                        xytext=xytext, textcoords=textcoords)"
   ]
  },
  {
   "cell_type": "code",
   "execution_count": 5,
   "id": "c8fa12b0",
   "metadata": {},
   "outputs": [],
   "source": [
    "def get_importances(model, feature_names=None,name='Feature Importance',\n",
    "                   sort=False, ascending=True):\n",
    "    \n",
    "    ## checking for feature names\n",
    "    if feature_names == None:\n",
    "        feature_names = model.feature_names_in_\n",
    "        \n",
    "    ## Saving the feature importances\n",
    "    importances = pd.Series(model.feature_importances_, index= feature_names,\n",
    "                           name=name)\n",
    "    \n",
    "    # sort importances\n",
    "    if sort == True:\n",
    "        importances = importances.sort_values(ascending=ascending)\n",
    "        \n",
    "    return importances\n",
    "\n"
   ]
  },
  {
   "cell_type": "code",
   "execution_count": 6,
   "id": "a90feb61",
   "metadata": {},
   "outputs": [],
   "source": [
    "def evaluate_regression(model, X_train,y_train, X_test, y_test): \n",
    "    \"\"\"Evaluates a scikit learn regression model using r-squared and RMSE\"\"\"\n",
    "    \n",
    "    ## Training Data\n",
    "    y_pred_train = model.predict(X_train)\n",
    "    r2_train = metrics.r2_score(y_train, y_pred_train)\n",
    "    rmse_train = metrics.mean_squared_error(y_train, y_pred_train, \n",
    "                                            squared=False)\n",
    "    \n",
    "    print(f\"Training Data:\\tR^2= {r2_train:.2f}\\tRMSE= {rmse_train:.2f}\")\n",
    "        \n",
    "    \n",
    "    ## Test Data\n",
    "    y_pred_test = model.predict(X_test)\n",
    "    r2_test = metrics.r2_score(y_test, y_pred_test)\n",
    "    rmse_test = metrics.mean_squared_error(y_test, y_pred_test, \n",
    "                                            squared=False)\n",
    "    \n",
    "    print(f\"Test Data:\\tR^2= {r2_test:.2f}\\tRMSE= {rmse_test:.2f}\")\n"
   ]
  },
  {
   "cell_type": "code",
   "execution_count": 7,
   "id": "218caf01",
   "metadata": {},
   "outputs": [],
   "source": [
    "def plot_importance(importances, top_n=None,  figsize=(8,6)):\n",
    "    # sorting with asc=false for correct order of bars\n",
    "    if top_n==None:\n",
    "        ## sort all features and set title\n",
    "        plot_vals = importances.sort_values()\n",
    "        title = \"All Features - Ranked by Importance\"\n",
    "    else:\n",
    "        ## sort features and keep top_n and set title\n",
    "        plot_vals = importances.sort_values().tail(top_n)\n",
    "        title = f\"Top {top_n} Most Important Features\"\n",
    "    ## plotting top N importances\n",
    "    ax = plot_vals.plot(kind='barh', figsize=figsize)\n",
    "    ax.set(xlabel='Importance',\n",
    "            ylabel='Feature Names',\n",
    "            title=title)\n",
    "    ## return ax in case want to continue to update/modify figure\n",
    "    return ax\n",
    "\n"
   ]
  },
  {
   "cell_type": "code",
   "execution_count": 8,
   "id": "30494074",
   "metadata": {},
   "outputs": [],
   "source": [
    "def plot_coeffs(coeffs, top_n=None, figsize=(4,5), \n",
    "                intercept=False, intercept_name=\"intercept\", \n",
    "                annotate=False, ha='left', va='center', size=12, \n",
    "                xytext=(4,0), textcoords='offset points'):\n",
    "    \"\"\" Plots the top_n coefficients from a Series, with optional annotations.\n",
    "    \"\"\"\n",
    "    # Drop intercept if intercept=False and \n",
    "    if (intercept == False) & (intercept_name in coeffs.index):\n",
    "        coeffs = coeffs.drop(intercept_name)\n",
    "    if top_n == None:\n",
    "        ## sort all features and set title\n",
    "        plot_vals = coeffs.sort_values()\n",
    "        title = \"All Coefficients - Ranked by Magnitude\"\n",
    "    else:\n",
    "        ## rank the coeffs and select the top_n\n",
    "        coeff_rank = coeffs.abs().rank().sort_values(ascending=False)\n",
    "        top_n_features = coeff_rank.head(top_n)\n",
    "        \n",
    "        ## sort features and keep top_n and set title\n",
    "        plot_vals = coeffs.loc[top_n_features.index].sort_values()\n",
    "        title = f\"Top {top_n} Largest Coefficients\"\n",
    "    ## plotting top N importances\n",
    "    ax = plot_vals.plot(kind='barh', figsize=figsize)\n",
    "    ax.set(xlabel='Coefficient', \n",
    "            ylabel='Feature Names', \n",
    "            title=title)\n",
    "    ax.axvline(0, color='k')\n",
    "    if annotate == True:\n",
    "        annotate_hbars(ax, ha=ha, va=va, size=size, xytext=xytext, textcoords=textcoords)\n",
    "    return ax\n"
   ]
  },
  {
   "cell_type": "markdown",
   "id": "84a575a4",
   "metadata": {
    "heading_collapsed": true
   },
   "source": [
    "# Checking Versions"
   ]
  },
  {
   "cell_type": "code",
   "execution_count": 9,
   "id": "3d61e525",
   "metadata": {
    "hidden": true
   },
   "outputs": [
    {
     "name": "stdout",
     "output_type": "stream",
     "text": [
      "Python 3.9.15\n",
      "sklearn version: 1.1.3\n"
     ]
    }
   ],
   "source": [
    "# Run the following command on your local computer to check the version of sklearn\n",
    "import sklearn\n",
    "!python --version\n",
    "print(f\"sklearn version: {sklearn.__version__}\")"
   ]
  },
  {
   "cell_type": "markdown",
   "id": "bac692f3",
   "metadata": {
    "heading_collapsed": true
   },
   "source": [
    "# Data Cleaning"
   ]
  },
  {
   "cell_type": "markdown",
   "id": "f36c402d",
   "metadata": {
    "hidden": true
   },
   "source": [
    "How many Rows and Columns?"
   ]
  },
  {
   "cell_type": "code",
   "execution_count": 10,
   "id": "80d7ea35",
   "metadata": {
    "hidden": true
   },
   "outputs": [
    {
     "name": "stdout",
     "output_type": "stream",
     "text": [
      "There are 8523 rows and 12 columns.\n"
     ]
    }
   ],
   "source": [
    "rows = len(df)\n",
    "columns = len(df.columns)\n",
    "print(f\"There are {rows} rows and {columns} columns.\")"
   ]
  },
  {
   "cell_type": "markdown",
   "id": "20b774c4",
   "metadata": {
    "hidden": true
   },
   "source": [
    "-- or"
   ]
  },
  {
   "cell_type": "code",
   "execution_count": 11,
   "id": "4b1bc549",
   "metadata": {
    "hidden": true
   },
   "outputs": [
    {
     "data": {
      "text/plain": [
       "(8523, 12)"
      ]
     },
     "execution_count": 11,
     "metadata": {},
     "output_type": "execute_result"
    }
   ],
   "source": [
    "df.shape"
   ]
  },
  {
   "cell_type": "code",
   "execution_count": 12,
   "id": "e6f96329",
   "metadata": {
    "hidden": true
   },
   "outputs": [
    {
     "name": "stdout",
     "output_type": "stream",
     "text": [
      "The datatype for rows is <class 'int'> and for columns it's <class 'int'>\n"
     ]
    }
   ],
   "source": [
    "print(f\"The datatype for rows is {type(rows)} and for columns it's {type(columns)}\")"
   ]
  },
  {
   "cell_type": "markdown",
   "id": "a0d1e8d0",
   "metadata": {
    "hidden": true
   },
   "source": [
    "-- Or"
   ]
  },
  {
   "cell_type": "code",
   "execution_count": 13,
   "id": "ed7b46ce",
   "metadata": {
    "hidden": true
   },
   "outputs": [
    {
     "data": {
      "text/plain": [
       "Item_Identifier               object\n",
       "Item_Weight                  float64\n",
       "Item_Fat_Content              object\n",
       "Item_Visibility              float64\n",
       "Item_Type                     object\n",
       "Item_MRP                     float64\n",
       "Outlet_Identifier             object\n",
       "Outlet_Establishment_Year      int64\n",
       "Outlet_Size                   object\n",
       "Outlet_Location_Type          object\n",
       "Outlet_Type                   object\n",
       "Item_Outlet_Sales            float64\n",
       "dtype: object"
      ]
     },
     "execution_count": 13,
     "metadata": {},
     "output_type": "execute_result"
    }
   ],
   "source": [
    "df.dtypes"
   ]
  },
  {
   "cell_type": "markdown",
   "id": "db3b95b0",
   "metadata": {
    "hidden": true
   },
   "source": [
    "**Duplicates?**"
   ]
  },
  {
   "cell_type": "markdown",
   "id": "8d56be3d",
   "metadata": {
    "hidden": true
   },
   "source": [
    "- No duplicates no worries"
   ]
  },
  {
   "cell_type": "code",
   "execution_count": 14,
   "id": "17b78acb",
   "metadata": {
    "hidden": true
   },
   "outputs": [
    {
     "data": {
      "text/plain": [
       "0"
      ]
     },
     "execution_count": 14,
     "metadata": {},
     "output_type": "execute_result"
    }
   ],
   "source": [
    "df.duplicated().sum()"
   ]
  },
  {
   "cell_type": "markdown",
   "id": "7709344a",
   "metadata": {
    "hidden": true
   },
   "source": [
    "**Missing values?**"
   ]
  },
  {
   "cell_type": "code",
   "execution_count": 15,
   "id": "7a860fcc",
   "metadata": {
    "hidden": true
   },
   "outputs": [
    {
     "data": {
      "text/plain": [
       "Item_Identifier                 0\n",
       "Item_Weight                  1463\n",
       "Item_Fat_Content                0\n",
       "Item_Visibility                 0\n",
       "Item_Type                       0\n",
       "Item_MRP                        0\n",
       "Outlet_Identifier               0\n",
       "Outlet_Establishment_Year       0\n",
       "Outlet_Size                  2410\n",
       "Outlet_Location_Type            0\n",
       "Outlet_Type                     0\n",
       "Item_Outlet_Sales               0\n",
       "dtype: int64"
      ]
     },
     "execution_count": 15,
     "metadata": {},
     "output_type": "execute_result"
    }
   ],
   "source": [
    "df.isna().sum()"
   ]
  },
  {
   "cell_type": "markdown",
   "id": "600cee41",
   "metadata": {
    "hidden": true
   },
   "source": [
    "**Dropping Item_Identifier and Outlet_Identifier**\n",
    "\n",
    "- Dropping the Outlet_Identifier because this particular data does not contribute to the sales predicitons, it's irrelevant to the items being sold.\n",
    "\n",
    "- Then checking for removal of column with df.drop()"
   ]
  },
  {
   "cell_type": "code",
   "execution_count": 16,
   "id": "cf870645",
   "metadata": {
    "hidden": true
   },
   "outputs": [
    {
     "data": {
      "text/html": [
       "<div>\n",
       "<style scoped>\n",
       "    .dataframe tbody tr th:only-of-type {\n",
       "        vertical-align: middle;\n",
       "    }\n",
       "\n",
       "    .dataframe tbody tr th {\n",
       "        vertical-align: top;\n",
       "    }\n",
       "\n",
       "    .dataframe thead th {\n",
       "        text-align: right;\n",
       "    }\n",
       "</style>\n",
       "<table border=\"1\" class=\"dataframe\">\n",
       "  <thead>\n",
       "    <tr style=\"text-align: right;\">\n",
       "      <th></th>\n",
       "      <th>Item_Weight</th>\n",
       "      <th>Item_Fat_Content</th>\n",
       "      <th>Item_Visibility</th>\n",
       "      <th>Item_Type</th>\n",
       "      <th>Item_MRP</th>\n",
       "      <th>Outlet_Establishment_Year</th>\n",
       "      <th>Outlet_Size</th>\n",
       "      <th>Outlet_Location_Type</th>\n",
       "      <th>Outlet_Type</th>\n",
       "      <th>Item_Outlet_Sales</th>\n",
       "    </tr>\n",
       "  </thead>\n",
       "  <tbody>\n",
       "    <tr>\n",
       "      <th>0</th>\n",
       "      <td>9.30</td>\n",
       "      <td>Low Fat</td>\n",
       "      <td>0.016047</td>\n",
       "      <td>Dairy</td>\n",
       "      <td>249.8092</td>\n",
       "      <td>1999</td>\n",
       "      <td>Medium</td>\n",
       "      <td>Tier 1</td>\n",
       "      <td>Supermarket Type1</td>\n",
       "      <td>3735.1380</td>\n",
       "    </tr>\n",
       "    <tr>\n",
       "      <th>1</th>\n",
       "      <td>5.92</td>\n",
       "      <td>Regular</td>\n",
       "      <td>0.019278</td>\n",
       "      <td>Soft Drinks</td>\n",
       "      <td>48.2692</td>\n",
       "      <td>2009</td>\n",
       "      <td>Medium</td>\n",
       "      <td>Tier 3</td>\n",
       "      <td>Supermarket Type2</td>\n",
       "      <td>443.4228</td>\n",
       "    </tr>\n",
       "    <tr>\n",
       "      <th>2</th>\n",
       "      <td>17.50</td>\n",
       "      <td>Low Fat</td>\n",
       "      <td>0.016760</td>\n",
       "      <td>Meat</td>\n",
       "      <td>141.6180</td>\n",
       "      <td>1999</td>\n",
       "      <td>Medium</td>\n",
       "      <td>Tier 1</td>\n",
       "      <td>Supermarket Type1</td>\n",
       "      <td>2097.2700</td>\n",
       "    </tr>\n",
       "    <tr>\n",
       "      <th>3</th>\n",
       "      <td>19.20</td>\n",
       "      <td>Regular</td>\n",
       "      <td>0.000000</td>\n",
       "      <td>Fruits and Vegetables</td>\n",
       "      <td>182.0950</td>\n",
       "      <td>1998</td>\n",
       "      <td>NaN</td>\n",
       "      <td>Tier 3</td>\n",
       "      <td>Grocery Store</td>\n",
       "      <td>732.3800</td>\n",
       "    </tr>\n",
       "    <tr>\n",
       "      <th>4</th>\n",
       "      <td>8.93</td>\n",
       "      <td>Low Fat</td>\n",
       "      <td>0.000000</td>\n",
       "      <td>Household</td>\n",
       "      <td>53.8614</td>\n",
       "      <td>1987</td>\n",
       "      <td>High</td>\n",
       "      <td>Tier 3</td>\n",
       "      <td>Supermarket Type1</td>\n",
       "      <td>994.7052</td>\n",
       "    </tr>\n",
       "  </tbody>\n",
       "</table>\n",
       "</div>"
      ],
      "text/plain": [
       "   Item_Weight Item_Fat_Content  Item_Visibility              Item_Type  \\\n",
       "0         9.30          Low Fat         0.016047                  Dairy   \n",
       "1         5.92          Regular         0.019278            Soft Drinks   \n",
       "2        17.50          Low Fat         0.016760                   Meat   \n",
       "3        19.20          Regular         0.000000  Fruits and Vegetables   \n",
       "4         8.93          Low Fat         0.000000              Household   \n",
       "\n",
       "   Item_MRP  Outlet_Establishment_Year Outlet_Size Outlet_Location_Type  \\\n",
       "0  249.8092                       1999      Medium               Tier 1   \n",
       "1   48.2692                       2009      Medium               Tier 3   \n",
       "2  141.6180                       1999      Medium               Tier 1   \n",
       "3  182.0950                       1998         NaN               Tier 3   \n",
       "4   53.8614                       1987        High               Tier 3   \n",
       "\n",
       "         Outlet_Type  Item_Outlet_Sales  \n",
       "0  Supermarket Type1          3735.1380  \n",
       "1  Supermarket Type2           443.4228  \n",
       "2  Supermarket Type1          2097.2700  \n",
       "3      Grocery Store           732.3800  \n",
       "4  Supermarket Type1           994.7052  "
      ]
     },
     "execution_count": 16,
     "metadata": {},
     "output_type": "execute_result"
    }
   ],
   "source": [
    "df = df.drop(columns= [\"Outlet_Identifier\", \"Item_Identifier\"])\n",
    "\n",
    "df.head()"
   ]
  },
  {
   "cell_type": "code",
   "execution_count": 17,
   "id": "622e34a3",
   "metadata": {
    "hidden": true
   },
   "outputs": [
    {
     "data": {
      "text/plain": [
       "Item_Weight                  1463\n",
       "Item_Fat_Content                0\n",
       "Item_Visibility                 0\n",
       "Item_Type                       0\n",
       "Item_MRP                        0\n",
       "Outlet_Establishment_Year       0\n",
       "Outlet_Size                  2410\n",
       "Outlet_Location_Type            0\n",
       "Outlet_Type                     0\n",
       "Item_Outlet_Sales               0\n",
       "dtype: int64"
      ]
     },
     "execution_count": 17,
     "metadata": {},
     "output_type": "execute_result"
    }
   ],
   "source": [
    "#Sucess!\n",
    "df.isna().sum()"
   ]
  },
  {
   "cell_type": "markdown",
   "id": "6948669f",
   "metadata": {
    "hidden": true
   },
   "source": [
    "Filling Missing Data\n",
    "\n",
    "- Checking for missing values.\n",
    "- Then filling data for missing values and confirming change."
   ]
  },
  {
   "cell_type": "code",
   "execution_count": 18,
   "id": "ae787b6c",
   "metadata": {
    "hidden": true
   },
   "outputs": [
    {
     "name": "stdout",
     "output_type": "stream",
     "text": [
      "Item_Weight                  1463\n",
      "Item_Fat_Content                0\n",
      "Item_Visibility                 0\n",
      "Item_Type                       0\n",
      "Item_MRP                        0\n",
      "Outlet_Establishment_Year       0\n",
      "Outlet_Size                  2410\n",
      "Outlet_Location_Type            0\n",
      "Outlet_Type                     0\n",
      "Item_Outlet_Sales               0\n",
      "dtype: int64\n"
     ]
    }
   ],
   "source": [
    "print(df.isna().sum())"
   ]
  },
  {
   "cell_type": "code",
   "execution_count": 19,
   "id": "1e4a696a",
   "metadata": {
    "hidden": true
   },
   "outputs": [
    {
     "data": {
      "text/plain": [
       "Low Fat    5089\n",
       "Regular    2889\n",
       "LF          316\n",
       "reg         117\n",
       "low fat     112\n",
       "Name: Item_Fat_Content, dtype: int64"
      ]
     },
     "execution_count": 19,
     "metadata": {},
     "output_type": "execute_result"
    }
   ],
   "source": [
    "mean_item_weight = df['Item_Weight'].mean()\n",
    "df['Item_Weight'].fillna(mean_item_weight, inplace = True)\n",
    "df['Item_Fat_Content'].value_counts()"
   ]
  },
  {
   "cell_type": "code",
   "execution_count": 20,
   "id": "4d2da4c9",
   "metadata": {
    "hidden": true
   },
   "outputs": [
    {
     "data": {
      "text/plain": [
       "Low Fat    5517\n",
       "Regular    3006\n",
       "Name: Item_Fat_Content, dtype: int64"
      ]
     },
     "execution_count": 20,
     "metadata": {},
     "output_type": "execute_result"
    }
   ],
   "source": [
    "df['Item_Fat_Content'] = df['Item_Fat_Content'].replace('low fat', 'Low Fat')\n",
    "df['Item_Fat_Content'] = df['Item_Fat_Content'].replace('LF', 'Low Fat')\n",
    "df['Item_Fat_Content'] = df['Item_Fat_Content'].replace('reg', 'Regular')\n",
    "\n",
    "df['Item_Fat_Content'].value_counts()"
   ]
  },
  {
   "cell_type": "markdown",
   "id": "081fd8fc",
   "metadata": {
    "hidden": true
   },
   "source": [
    "**Summary Statistics**"
   ]
  },
  {
   "cell_type": "code",
   "execution_count": 21,
   "id": "fe44ef7e",
   "metadata": {
    "hidden": true
   },
   "outputs": [
    {
     "data": {
      "text/html": [
       "<div>\n",
       "<style scoped>\n",
       "    .dataframe tbody tr th:only-of-type {\n",
       "        vertical-align: middle;\n",
       "    }\n",
       "\n",
       "    .dataframe tbody tr th {\n",
       "        vertical-align: top;\n",
       "    }\n",
       "\n",
       "    .dataframe thead th {\n",
       "        text-align: right;\n",
       "    }\n",
       "</style>\n",
       "<table border=\"1\" class=\"dataframe\">\n",
       "  <thead>\n",
       "    <tr style=\"text-align: right;\">\n",
       "      <th></th>\n",
       "      <th>Item_Weight</th>\n",
       "      <th>Item_Visibility</th>\n",
       "      <th>Item_MRP</th>\n",
       "      <th>Outlet_Establishment_Year</th>\n",
       "      <th>Item_Outlet_Sales</th>\n",
       "    </tr>\n",
       "  </thead>\n",
       "  <tbody>\n",
       "    <tr>\n",
       "      <th>count</th>\n",
       "      <td>8523.000000</td>\n",
       "      <td>8523.000000</td>\n",
       "      <td>8523.000000</td>\n",
       "      <td>8523.000000</td>\n",
       "      <td>8523.000000</td>\n",
       "    </tr>\n",
       "    <tr>\n",
       "      <th>mean</th>\n",
       "      <td>12.857645</td>\n",
       "      <td>0.066132</td>\n",
       "      <td>140.992782</td>\n",
       "      <td>1997.831867</td>\n",
       "      <td>2181.288914</td>\n",
       "    </tr>\n",
       "    <tr>\n",
       "      <th>std</th>\n",
       "      <td>4.226124</td>\n",
       "      <td>0.051598</td>\n",
       "      <td>62.275067</td>\n",
       "      <td>8.371760</td>\n",
       "      <td>1706.499616</td>\n",
       "    </tr>\n",
       "    <tr>\n",
       "      <th>min</th>\n",
       "      <td>4.555000</td>\n",
       "      <td>0.000000</td>\n",
       "      <td>31.290000</td>\n",
       "      <td>1985.000000</td>\n",
       "      <td>33.290000</td>\n",
       "    </tr>\n",
       "    <tr>\n",
       "      <th>25%</th>\n",
       "      <td>9.310000</td>\n",
       "      <td>0.026989</td>\n",
       "      <td>93.826500</td>\n",
       "      <td>1987.000000</td>\n",
       "      <td>834.247400</td>\n",
       "    </tr>\n",
       "    <tr>\n",
       "      <th>50%</th>\n",
       "      <td>12.857645</td>\n",
       "      <td>0.053931</td>\n",
       "      <td>143.012800</td>\n",
       "      <td>1999.000000</td>\n",
       "      <td>1794.331000</td>\n",
       "    </tr>\n",
       "    <tr>\n",
       "      <th>75%</th>\n",
       "      <td>16.000000</td>\n",
       "      <td>0.094585</td>\n",
       "      <td>185.643700</td>\n",
       "      <td>2004.000000</td>\n",
       "      <td>3101.296400</td>\n",
       "    </tr>\n",
       "    <tr>\n",
       "      <th>max</th>\n",
       "      <td>21.350000</td>\n",
       "      <td>0.328391</td>\n",
       "      <td>266.888400</td>\n",
       "      <td>2009.000000</td>\n",
       "      <td>13086.964800</td>\n",
       "    </tr>\n",
       "  </tbody>\n",
       "</table>\n",
       "</div>"
      ],
      "text/plain": [
       "       Item_Weight  Item_Visibility     Item_MRP  Outlet_Establishment_Year  \\\n",
       "count  8523.000000      8523.000000  8523.000000                8523.000000   \n",
       "mean     12.857645         0.066132   140.992782                1997.831867   \n",
       "std       4.226124         0.051598    62.275067                   8.371760   \n",
       "min       4.555000         0.000000    31.290000                1985.000000   \n",
       "25%       9.310000         0.026989    93.826500                1987.000000   \n",
       "50%      12.857645         0.053931   143.012800                1999.000000   \n",
       "75%      16.000000         0.094585   185.643700                2004.000000   \n",
       "max      21.350000         0.328391   266.888400                2009.000000   \n",
       "\n",
       "       Item_Outlet_Sales  \n",
       "count        8523.000000  \n",
       "mean         2181.288914  \n",
       "std          1706.499616  \n",
       "min            33.290000  \n",
       "25%           834.247400  \n",
       "50%          1794.331000  \n",
       "75%          3101.296400  \n",
       "max         13086.964800  "
      ]
     },
     "execution_count": 21,
     "metadata": {},
     "output_type": "execute_result"
    }
   ],
   "source": [
    "df.describe()"
   ]
  },
  {
   "cell_type": "markdown",
   "id": "2b7089cf",
   "metadata": {
    "heading_collapsed": true
   },
   "source": [
    "# Exploratory Visuals"
   ]
  },
  {
   "cell_type": "code",
   "execution_count": 22,
   "id": "c5195701",
   "metadata": {
    "hidden": true
   },
   "outputs": [
    {
     "name": "stdout",
     "output_type": "stream",
     "text": [
      "<class 'pandas.core.frame.DataFrame'>\n",
      "RangeIndex: 8523 entries, 0 to 8522\n",
      "Data columns (total 10 columns):\n",
      " #   Column                     Non-Null Count  Dtype  \n",
      "---  ------                     --------------  -----  \n",
      " 0   Item_Weight                8523 non-null   float64\n",
      " 1   Item_Fat_Content           8523 non-null   object \n",
      " 2   Item_Visibility            8523 non-null   float64\n",
      " 3   Item_Type                  8523 non-null   object \n",
      " 4   Item_MRP                   8523 non-null   float64\n",
      " 5   Outlet_Establishment_Year  8523 non-null   int64  \n",
      " 6   Outlet_Size                6113 non-null   object \n",
      " 7   Outlet_Location_Type       8523 non-null   object \n",
      " 8   Outlet_Type                8523 non-null   object \n",
      " 9   Item_Outlet_Sales          8523 non-null   float64\n",
      "dtypes: float64(4), int64(1), object(5)\n",
      "memory usage: 666.0+ KB\n"
     ]
    },
    {
     "data": {
      "text/html": [
       "<div>\n",
       "<style scoped>\n",
       "    .dataframe tbody tr th:only-of-type {\n",
       "        vertical-align: middle;\n",
       "    }\n",
       "\n",
       "    .dataframe tbody tr th {\n",
       "        vertical-align: top;\n",
       "    }\n",
       "\n",
       "    .dataframe thead th {\n",
       "        text-align: right;\n",
       "    }\n",
       "</style>\n",
       "<table border=\"1\" class=\"dataframe\">\n",
       "  <thead>\n",
       "    <tr style=\"text-align: right;\">\n",
       "      <th></th>\n",
       "      <th>Item_Weight</th>\n",
       "      <th>Item_Fat_Content</th>\n",
       "      <th>Item_Visibility</th>\n",
       "      <th>Item_Type</th>\n",
       "      <th>Item_MRP</th>\n",
       "      <th>Outlet_Establishment_Year</th>\n",
       "      <th>Outlet_Size</th>\n",
       "      <th>Outlet_Location_Type</th>\n",
       "      <th>Outlet_Type</th>\n",
       "      <th>Item_Outlet_Sales</th>\n",
       "    </tr>\n",
       "  </thead>\n",
       "  <tbody>\n",
       "    <tr>\n",
       "      <th>0</th>\n",
       "      <td>9.30</td>\n",
       "      <td>Low Fat</td>\n",
       "      <td>0.016047</td>\n",
       "      <td>Dairy</td>\n",
       "      <td>249.8092</td>\n",
       "      <td>1999</td>\n",
       "      <td>Medium</td>\n",
       "      <td>Tier 1</td>\n",
       "      <td>Supermarket Type1</td>\n",
       "      <td>3735.1380</td>\n",
       "    </tr>\n",
       "    <tr>\n",
       "      <th>1</th>\n",
       "      <td>5.92</td>\n",
       "      <td>Regular</td>\n",
       "      <td>0.019278</td>\n",
       "      <td>Soft Drinks</td>\n",
       "      <td>48.2692</td>\n",
       "      <td>2009</td>\n",
       "      <td>Medium</td>\n",
       "      <td>Tier 3</td>\n",
       "      <td>Supermarket Type2</td>\n",
       "      <td>443.4228</td>\n",
       "    </tr>\n",
       "    <tr>\n",
       "      <th>2</th>\n",
       "      <td>17.50</td>\n",
       "      <td>Low Fat</td>\n",
       "      <td>0.016760</td>\n",
       "      <td>Meat</td>\n",
       "      <td>141.6180</td>\n",
       "      <td>1999</td>\n",
       "      <td>Medium</td>\n",
       "      <td>Tier 1</td>\n",
       "      <td>Supermarket Type1</td>\n",
       "      <td>2097.2700</td>\n",
       "    </tr>\n",
       "    <tr>\n",
       "      <th>3</th>\n",
       "      <td>19.20</td>\n",
       "      <td>Regular</td>\n",
       "      <td>0.000000</td>\n",
       "      <td>Fruits and Vegetables</td>\n",
       "      <td>182.0950</td>\n",
       "      <td>1998</td>\n",
       "      <td>NaN</td>\n",
       "      <td>Tier 3</td>\n",
       "      <td>Grocery Store</td>\n",
       "      <td>732.3800</td>\n",
       "    </tr>\n",
       "    <tr>\n",
       "      <th>4</th>\n",
       "      <td>8.93</td>\n",
       "      <td>Low Fat</td>\n",
       "      <td>0.000000</td>\n",
       "      <td>Household</td>\n",
       "      <td>53.8614</td>\n",
       "      <td>1987</td>\n",
       "      <td>High</td>\n",
       "      <td>Tier 3</td>\n",
       "      <td>Supermarket Type1</td>\n",
       "      <td>994.7052</td>\n",
       "    </tr>\n",
       "  </tbody>\n",
       "</table>\n",
       "</div>"
      ],
      "text/plain": [
       "   Item_Weight Item_Fat_Content  Item_Visibility              Item_Type  \\\n",
       "0         9.30          Low Fat         0.016047                  Dairy   \n",
       "1         5.92          Regular         0.019278            Soft Drinks   \n",
       "2        17.50          Low Fat         0.016760                   Meat   \n",
       "3        19.20          Regular         0.000000  Fruits and Vegetables   \n",
       "4         8.93          Low Fat         0.000000              Household   \n",
       "\n",
       "   Item_MRP  Outlet_Establishment_Year Outlet_Size Outlet_Location_Type  \\\n",
       "0  249.8092                       1999      Medium               Tier 1   \n",
       "1   48.2692                       2009      Medium               Tier 3   \n",
       "2  141.6180                       1999      Medium               Tier 1   \n",
       "3  182.0950                       1998         NaN               Tier 3   \n",
       "4   53.8614                       1987        High               Tier 3   \n",
       "\n",
       "         Outlet_Type  Item_Outlet_Sales  \n",
       "0  Supermarket Type1          3735.1380  \n",
       "1  Supermarket Type2           443.4228  \n",
       "2  Supermarket Type1          2097.2700  \n",
       "3      Grocery Store           732.3800  \n",
       "4  Supermarket Type1           994.7052  "
      ]
     },
     "execution_count": 22,
     "metadata": {},
     "output_type": "execute_result"
    }
   ],
   "source": [
    "df.info()\n",
    "df.head()"
   ]
  },
  {
   "cell_type": "code",
   "execution_count": 23,
   "id": "8247d7f3",
   "metadata": {
    "hidden": true
   },
   "outputs": [
    {
     "name": "stderr",
     "output_type": "stream",
     "text": [
      "C:\\Users\\caill\\AppData\\Local\\Temp\\ipykernel_10448\\1528130796.py:1: FutureWarning: The default value of numeric_only in DataFrame.corr is deprecated. In a future version, it will default to False. Select only valid columns or specify the value of numeric_only to silence this warning.\n",
      "  corr = df.corr()\n"
     ]
    },
    {
     "data": {
      "image/png": "[encoded data removed]",
      "text/plain": [
       "<Figure size 640x480 with 2 Axes>"
      ]
     },
     "metadata": {},
     "output_type": "display_data"
    }
   ],
   "source": [
    "corr = df.corr()\n",
    "sns.heatmap(corr, cmap = 'Purples', annot = True)\n",
    "plt.show()"
   ]
  },
  {
   "cell_type": "markdown",
   "id": "37665cc3",
   "metadata": {
    "hidden": true
   },
   "source": [
    "- Checking to see which data has a positive or negative correlation."
   ]
  },
  {
   "cell_type": "code",
   "execution_count": 24,
   "id": "de4fffc3",
   "metadata": {
    "hidden": true
   },
   "outputs": [
    {
     "data": {
      "image/png": "[encoded data removed]",
      "text/plain": [
       "<Figure size 640x480 with 1 Axes>"
      ]
     },
     "metadata": {},
     "output_type": "display_data"
    }
   ],
   "source": [
    "sns.scatterplot(data = df, x = \"Item_MRP\" , y = \"Item_Outlet_Sales\")\n",
    "plt.show()"
   ]
  },
  {
   "cell_type": "markdown",
   "id": "0b845442",
   "metadata": {
    "hidden": true
   },
   "source": [
    "- This scatterplot shows a positive correlation between Item Outlet Sales and MRP (Highest list price). This means the higher the list price the higher the sale of that item.\n"
   ]
  },
  {
   "cell_type": "code",
   "execution_count": 25,
   "id": "eda62a09",
   "metadata": {
    "hidden": true
   },
   "outputs": [
    {
     "data": {
      "image/png": "[encoded data removed]",
      "text/plain": [
       "<Figure size 640x480 with 1 Axes>"
      ]
     },
     "metadata": {},
     "output_type": "display_data"
    }
   ],
   "source": [
    "sns.boxplot(data = df, x = \"Outlet_Location_Type\", y = \"Item_Outlet_Sales\")\n",
    "plt.show()"
   ]
  },
  {
   "cell_type": "markdown",
   "id": "1dc051ae",
   "metadata": {
    "hidden": true
   },
   "source": [
    "- The average sales are slightly made more at Tier 2 areas than the others. However there are many outliers above the max in all tiers to suggest otherwise."
   ]
  },
  {
   "cell_type": "markdown",
   "id": "b6794e3c",
   "metadata": {
    "heading_collapsed": true
   },
   "source": [
    "# Explanatory Visuals"
   ]
  },
  {
   "cell_type": "markdown",
   "id": "a97f1e4d",
   "metadata": {
    "hidden": true
   },
   "source": [
    "**Checking for styles**"
   ]
  },
  {
   "cell_type": "code",
   "execution_count": 26,
   "id": "86994d30",
   "metadata": {
    "hidden": true
   },
   "outputs": [
    {
     "data": {
      "text/plain": [
       "['Solarize_Light2',\n",
       " '_classic_test_patch',\n",
       " '_mpl-gallery',\n",
       " '_mpl-gallery-nogrid',\n",
       " 'bmh',\n",
       " 'classic',\n",
       " 'dark_background',\n",
       " 'fast',\n",
       " 'fivethirtyeight',\n",
       " 'ggplot',\n",
       " 'grayscale',\n",
       " 'seaborn-v0_8',\n",
       " 'seaborn-v0_8-bright',\n",
       " 'seaborn-v0_8-colorblind',\n",
       " 'seaborn-v0_8-dark',\n",
       " 'seaborn-v0_8-dark-palette',\n",
       " 'seaborn-v0_8-darkgrid',\n",
       " 'seaborn-v0_8-deep',\n",
       " 'seaborn-v0_8-muted',\n",
       " 'seaborn-v0_8-notebook',\n",
       " 'seaborn-v0_8-paper',\n",
       " 'seaborn-v0_8-pastel',\n",
       " 'seaborn-v0_8-poster',\n",
       " 'seaborn-v0_8-talk',\n",
       " 'seaborn-v0_8-ticks',\n",
       " 'seaborn-v0_8-white',\n",
       " 'seaborn-v0_8-whitegrid',\n",
       " 'tableau-colorblind10']"
      ]
     },
     "execution_count": 26,
     "metadata": {},
     "output_type": "execute_result"
    }
   ],
   "source": [
    "plt.style.available"
   ]
  },
  {
   "cell_type": "code",
   "execution_count": null,
   "id": "87df78de",
   "metadata": {
    "hidden": true
   },
   "outputs": [],
   "source": [
    "#checking for trends\n",
    "sns.pairplot(df.iloc[:, [0, 1, 2, 3, 4, 5, 6, 7, 8, 9]])\n",
    "plt.show()"
   ]
  },
  {
   "cell_type": "code",
   "execution_count": null,
   "id": "7c19e1b8",
   "metadata": {
    "hidden": true
   },
   "outputs": [],
   "source": [
    "df.info()"
   ]
  },
  {
   "cell_type": "markdown",
   "id": "9a22d9ef",
   "metadata": {
    "hidden": true
   },
   "source": [
    "- Where have sales been since the start of the busines and what should be done to keep them at a steady rate?"
   ]
  },
  {
   "cell_type": "code",
   "execution_count": null,
   "id": "392d3980",
   "metadata": {
    "hidden": true
   },
   "outputs": [],
   "source": [
    "plt.style.use(\"seaborn-darkgrid\")"
   ]
  },
  {
   "cell_type": "code",
   "execution_count": null,
   "id": "e2c8163b",
   "metadata": {
    "hidden": true
   },
   "outputs": [],
   "source": [
    "fig, ax = plt.subplots(figsize=(10, 5))\n",
    "sns.lineplot(data = df, y =\"Item_Outlet_Sales\", x = \"Outlet_Establishment_Year\", ci = None, marker =\"o\")\n",
    "plt.xlabel(\"Outlet Establishment Year\", fontsize = 14)\n",
    "plt.ylabel(\"Item Sales (INR)\", fontsize = 14)\n",
    "plt.title(\"Sales Over the Established Outlet Years\", fontsize = 20);\n",
    "plt.show()"
   ]
  },
  {
   "cell_type": "markdown",
   "id": "36ea430d",
   "metadata": {
    "hidden": true
   },
   "source": [
    "Data shows that sales have been fairly steady since 1985 but took a big dip in sales between 1995-2000. Afterwards data shows that sales shot back up and have been a bit rocky since then. "
   ]
  },
  {
   "cell_type": "markdown",
   "id": "8d0b2e82",
   "metadata": {
    "hidden": true
   },
   "source": [
    "Reccomendation : Find out why sales were shot down in between 1995-2000's and what was done differently to bring them back up. Recreate that situation and you may be able to keep sales steady again.\n",
    "\n",
    "- Will people buy more of a product if it's cheaper?"
   ]
  },
  {
   "cell_type": "code",
   "execution_count": null,
   "id": "856f4201",
   "metadata": {
    "hidden": true
   },
   "outputs": [],
   "source": [
    "plt.style.use(\"seaborn-pastel\")\n",
    "fig, ax = plt.subplots(figsize=(10, 5))\n",
    "sns.scatterplot(data = df, x =\"Item_MRP\", y = \"Item_Outlet_Sales\")\n",
    "plt.title(\"Sales V.S. MRP\", fontsize = 20)\n",
    "plt.xlabel(\"Item MRP\", fontsize = 14)\n",
    "plt.ylabel(\"Item Sales (INR)\", fontsize = 14)\n",
    "plt.show()"
   ]
  },
  {
   "cell_type": "markdown",
   "id": "2d7a8546",
   "metadata": {
    "hidden": true
   },
   "source": [
    "The data shows more sales occur when the price of the item is higher.\n",
    "\n",
    "Reccomendation: Make products that are not selling, higher in value. This may spark a change in sales."
   ]
  },
  {
   "cell_type": "markdown",
   "id": "24fbc309",
   "metadata": {
    "heading_collapsed": true
   },
   "source": [
    "# Machine Learning"
   ]
  },
  {
   "cell_type": "code",
   "execution_count": null,
   "id": "296d603b",
   "metadata": {
    "hidden": true
   },
   "outputs": [],
   "source": [
    "#Define X and y\n",
    "X = df.drop(columns = [\"Item_Outlet_Sales\"]).copy()\n",
    "\n",
    "y = df[\"Item_Outlet_Sales\"].copy()\n",
    "\n",
    "\n",
    "#Train test split the data to prepare for machine learning\n",
    "X_train, X_test, y_train, y_test = train_test_split(X, y, random_state=42)\n",
    "X_train.isna().any()\n"
   ]
  },
  {
   "cell_type": "code",
   "execution_count": null,
   "id": "28b618ca",
   "metadata": {
    "hidden": true
   },
   "outputs": [],
   "source": [
    "df[\"Outlet_Size\"].dropna(inplace = True)"
   ]
  },
  {
   "cell_type": "code",
   "execution_count": null,
   "id": "9041bfee",
   "metadata": {
    "hidden": true
   },
   "outputs": [],
   "source": [
    "#Create a ColumnTransformer to preprocess the data\n",
    "cat_selector = make_column_selector(dtype_include = \"object\")\n",
    "num_selector = make_column_selector(dtype_include =\"number\")\n",
    "\n",
    "cat_selector(X_train)"
   ]
  },
  {
   "cell_type": "code",
   "execution_count": null,
   "id": "0b785fbb",
   "metadata": {
    "hidden": true
   },
   "outputs": [],
   "source": [
    "# Imputers\n",
    "freq_imputer = SimpleImputer(strategy='most_frequent')\n",
    "mean_imputer = SimpleImputer(strategy='mean')"
   ]
  },
  {
   "cell_type": "code",
   "execution_count": null,
   "id": "ca5ec57b",
   "metadata": {
    "hidden": true
   },
   "outputs": [],
   "source": [
    "# Scaler\n",
    "scaler = StandardScaler()\n",
    "# One-hot encoder\n",
    "ohe = OneHotEncoder(handle_unknown='ignore', sparse=False)"
   ]
  },
  {
   "cell_type": "code",
   "execution_count": null,
   "id": "9b670a0d",
   "metadata": {
    "hidden": true
   },
   "outputs": [],
   "source": [
    "# Numeric pipeline\n",
    "numeric_pipe = make_pipeline(mean_imputer, scaler)\n",
    "numeric_pipe"
   ]
  },
  {
   "cell_type": "code",
   "execution_count": null,
   "id": "01196b34",
   "metadata": {
    "hidden": true
   },
   "outputs": [],
   "source": [
    "# Categorical pipeline\n",
    "categorical_pipe = make_pipeline(freq_imputer, ohe)\n",
    "categorical_pipe"
   ]
  },
  {
   "cell_type": "code",
   "execution_count": null,
   "id": "f666c4f2",
   "metadata": {
    "hidden": true
   },
   "outputs": [],
   "source": [
    "# create tuples of (imputer, selector) for each datatype\n",
    "num_tuple = (numeric_pipe, num_selector)\n",
    "cat_tuple = (categorical_pipe, cat_selector)\n",
    "# instantiate ColumnTransformer (processor)\n",
    "col_transformer = make_column_transformer(num_tuple, cat_tuple, remainder='passthrough')\n",
    "col_transformer"
   ]
  },
  {
   "cell_type": "code",
   "execution_count": null,
   "id": "902ee679",
   "metadata": {
    "hidden": true
   },
   "outputs": [],
   "source": [
    "#Transform your data and display the result.\n",
    "col_transformer.fit(X_train)\n",
    "X_train_imputed = col_transformer.transform(X_train)\n",
    "X_test_imputed = col_transformer.transform(X_test)\n",
    "# change the result back to a dataframe to find any missing data\n",
    "#X_train_imputed = pd.DataFrame(X_train_imputed, columns=X_train.columns)\n",
    "#X_train_imputed.isna().any()"
   ]
  },
  {
   "cell_type": "markdown",
   "id": "93a0f7cf",
   "metadata": {
    "hidden": true
   },
   "source": [
    "### Linear Regression"
   ]
  },
  {
   "cell_type": "code",
   "execution_count": null,
   "id": "c56ef500",
   "metadata": {
    "hidden": true
   },
   "outputs": [],
   "source": [
    "from sklearn.linear_model import LinearRegression\n",
    "reg = LinearRegression()\n",
    "\n",
    "from sklearn.pipeline import make_pipeline\n",
    "reg_pipe = make_pipeline(scaler, reg)\n"
   ]
  },
  {
   "cell_type": "code",
   "execution_count": null,
   "id": "37951fa0",
   "metadata": {
    "hidden": true
   },
   "outputs": [],
   "source": [
    "#fit on imputed data (other data has null possibly)\n",
    "reg_pipe.fit(X_train_imputed,y_train)\n",
    "\n",
    "pred_test = reg_pipe.predict(X_test_imputed)\n",
    "pred_train = reg_pipe.predict(X_train_imputed)\n",
    "\n",
    "model_metrics(reg_pipe, X_train_imputed, y_train, X_test_imputed, y_test, model_name='Decision Regression')\n"
   ]
  },
  {
   "cell_type": "code",
   "execution_count": null,
   "id": "c6031119",
   "metadata": {
    "hidden": true
   },
   "outputs": [],
   "source": [
    "###Regression Tree\n",
    "\n",
    "dec_tree = DecisionTreeRegressor(random_state = 42)\n",
    "\n",
    "dec_tree.fit(X_train_imputed, y_train)\n",
    "\n",
    "train_preds = dec_tree.predict(X_train_imputed)\n",
    "test_preds = dec_tree.predict(X_test_imputed)"
   ]
  },
  {
   "cell_type": "code",
   "execution_count": null,
   "id": "e63ed1d9",
   "metadata": {
    "hidden": true
   },
   "outputs": [],
   "source": [
    "# evaluating the model\n",
    "train_score = dec_tree.score(X_train_imputed, y_train)\n",
    "test_score = dec_tree.score(X_test_imputed, y_test)\n",
    "print(train_score)\n",
    "print(test_score)"
   ]
  },
  {
   "cell_type": "markdown",
   "id": "1efcfe52",
   "metadata": {
    "hidden": true
   },
   "source": [
    "There seems to be an issue of overfitting in the decision tree. The R2 score in the training is higher than the testing data."
   ]
  },
  {
   "cell_type": "code",
   "execution_count": null,
   "id": "c2e20e85",
   "metadata": {
    "hidden": true
   },
   "outputs": [],
   "source": [
    "print(dec_tree.get_depth())"
   ]
  },
  {
   "cell_type": "code",
   "execution_count": null,
   "id": "82c3e995",
   "metadata": {
    "hidden": true
   },
   "outputs": [],
   "source": [
    "print(dec_tree.get_n_leaves())"
   ]
  },
  {
   "cell_type": "code",
   "execution_count": null,
   "id": "71894a44",
   "metadata": {
    "hidden": true
   },
   "outputs": [],
   "source": [
    "depths = list(range(2, 40)) # will try every value between 2 and 40\n",
    "\n",
    "scores = pd.DataFrame(index=depths, columns=['Test Score','Train Score'])\n",
    "for depth in depths:\n",
    "    dec_tree = DecisionTreeRegressor(max_depth=depth, random_state=42)\n",
    "    dec_tree.fit(X_train_imputed, y_train)\n",
    "    train_score = dec_tree.score(X_train_imputed, y_train)\n",
    "    test_score = dec_tree.score(X_test_imputed, y_test)\n",
    "    scores.loc[depth, 'Train Score'] = train_score\n",
    "    scores.loc[depth, 'Test Score'] = test_score\n",
    "\n",
    "\n",
    "plt.plot(depths, scores['Test Score'])\n",
    "plt.xlabel('max_depth')\n",
    "plt.ylabel('R2');"
   ]
  },
  {
   "cell_type": "code",
   "execution_count": null,
   "id": "08a7f45a",
   "metadata": {
    "hidden": true
   },
   "outputs": [],
   "source": [
    "#Looking at wich depth precisely has the highest r2 test score\n",
    "sorted_scores = scores.sort_values(by='Test Score', ascending=False)\n",
    "sorted_scores.head()"
   ]
  },
  {
   "cell_type": "code",
   "execution_count": null,
   "id": "8208809a",
   "metadata": {
    "hidden": true
   },
   "outputs": [],
   "source": [
    "#Using index with highest test score\n",
    "dec_tree_5 = DecisionTreeRegressor(max_depth = 5, random_state = 42)\n",
    "dec_tree_5.fit(X_train_imputed, y_train)\n",
    "train_5_score = dec_tree_5.score(X_train_imputed, y_train)\n",
    "test_5_score = dec_tree_5.score(X_test_imputed, y_test)\n",
    "print(train_5_score)\n",
    "print(test_5_score)\n",
    "#Happy balance~"
   ]
  },
  {
   "cell_type": "code",
   "execution_count": null,
   "id": "28c0f723",
   "metadata": {
    "hidden": true
   },
   "outputs": [],
   "source": [
    "#R2 and RMSE Score for regression tree\n",
    "model_metrics(dec_tree_5, X_train_imputed, y_train, X_test_imputed, y_test, model_name='Decision Regression')"
   ]
  },
  {
   "cell_type": "markdown",
   "id": "c1cdb9b5",
   "metadata": {
    "hidden": true
   },
   "source": [
    "The data fits better on the regression tree than the linear model and there are less penalized errors on the regression tree."
   ]
  },
  {
   "cell_type": "markdown",
   "id": "ef613c71",
   "metadata": {
    "hidden": true
   },
   "source": [
    "### Recommendation of which model to use"
   ]
  },
  {
   "cell_type": "markdown",
   "id": "ac2fb5ca",
   "metadata": {
    "hidden": true
   },
   "source": [
    "I recommend using the decision regression tree. The regression tree will be the best model to use due to the better fit and fewer errors."
   ]
  },
  {
   "cell_type": "markdown",
   "id": "70eafaeb",
   "metadata": {},
   "source": [
    "# Linear Regression Feature Importance"
   ]
  },
  {
   "cell_type": "code",
   "execution_count": null,
   "id": "8b241547",
   "metadata": {},
   "outputs": [],
   "source": [
    "pd.set_option('display.max_columns',0)\n",
    "df"
   ]
  },
  {
   "cell_type": "code",
   "execution_count": null,
   "id": "896bff7f",
   "metadata": {},
   "outputs": [],
   "source": [
    "df.isna().sum()"
   ]
  },
  {
   "cell_type": "code",
   "execution_count": null,
   "id": "9902a348",
   "metadata": {},
   "outputs": [],
   "source": [
    "df.describe()"
   ]
  },
  {
   "cell_type": "code",
   "execution_count": null,
   "id": "c35d1e46",
   "metadata": {},
   "outputs": [],
   "source": [
    "target = 'Item_Outlet_Sales'\n",
    "\n",
    "grid_spec = {'height_ratios':[0.8,0.2]}\n",
    "fig, axes = plt.subplots(nrows=2, figsize=(6,5), gridspec_kw=grid_spec)\n",
    "\n",
    "sns.histplot(data=df, x=target,ax=axes[0])\n",
    "sns.boxplot(data=df, x=target, ax=axes[1]);"
   ]
  },
  {
   "cell_type": "markdown",
   "id": "5f025dca",
   "metadata": {},
   "source": [
    "- Average number of sales are at 2000 rupies."
   ]
  },
  {
   "cell_type": "code",
   "execution_count": null,
   "id": "850849c5",
   "metadata": {},
   "outputs": [],
   "source": [
    "# ### Train Test Split\n",
    "## Making the x and y variables\n",
    "target = \"Item_Outlet_Sales\"\n",
    "drop_feats = []\n",
    "\n",
    "y = df[target].copy()\n",
    "X = df.drop(columns=[target, *drop_feats]).copy()\n",
    "\n",
    "## train-test-split with random state for reproducibility\n",
    "X_train, X_test, y_train, y_test = train_test_split(X,y, random_state=42)\n",
    "X_train.head(3)"
   ]
  },
  {
   "cell_type": "code",
   "execution_count": null,
   "id": "3545c9a0",
   "metadata": {},
   "outputs": [],
   "source": [
    "## making categorical selector and verify it works \n",
    "cat_sel = make_column_selector(dtype_include='object')\n",
    "cat_sel(X_train)"
   ]
  },
  {
   "cell_type": "code",
   "execution_count": null,
   "id": "c82c788b",
   "metadata": {},
   "outputs": [],
   "source": [
    "## making numeric selector and verify it works \n",
    "num_sel = make_column_selector(dtype_include='number')\n",
    "num_sel(X_train)"
   ]
  },
  {
   "cell_type": "code",
   "execution_count": null,
   "id": "a8f99679",
   "metadata": {},
   "outputs": [],
   "source": [
    "## making pipelines for categorical vs numeric data w/o scaling\n",
    "cat_pipe = make_pipeline(SimpleImputer(strategy='most_frequent', fill_value='MISSING'),\n",
    "                         OneHotEncoder(drop='first', handle_unknown='ignore', sparse=False))\n",
    "num_pipe = make_pipeline(SimpleImputer(strategy='mean'))\n"
   ]
  },
  {
   "cell_type": "code",
   "execution_count": null,
   "id": "682282ad",
   "metadata": {},
   "outputs": [],
   "source": [
    "## making the preprocessing column transformer\n",
    "preprocessor = make_column_transformer((num_pipe, num_sel),\n",
    "                                       (cat_pipe,cat_sel),                                      \n",
    "                                       verbose_feature_names_out=False)\n",
    "preprocessor"
   ]
  },
  {
   "cell_type": "code",
   "execution_count": null,
   "id": "4e30130d",
   "metadata": {},
   "outputs": [],
   "source": [
    "## fitting column transformer and run get_feature_names_out\n",
    "preprocessor.fit(X_train)\n",
    "X_train_df = pd.DataFrame(preprocessor.transform(X_train),\n",
    "                          columns=preprocessor.get_feature_names_out(),\n",
    "                         index=X_train.index)\n",
    "X_test_df = pd.DataFrame(preprocessor.transform(X_test),\n",
    "                          columns=preprocessor.get_feature_names_out(),\n",
    "                         index=X_test.index)\n",
    "display(X_train_df)"
   ]
  },
  {
   "cell_type": "markdown",
   "id": "4c596318",
   "metadata": {},
   "source": [
    "# Model 1"
   ]
  },
  {
   "cell_type": "code",
   "execution_count": null,
   "id": "a67984a5",
   "metadata": {},
   "outputs": [],
   "source": [
    "from sklearn.linear_model import LinearRegression\n",
    "lin_reg= LinearRegression()\n",
    "lin_reg.fit(X_train_df,y_train)\n",
    "evaluate_regression(lin_reg, X_train_df, y_train, \n",
    "                    X_test_df, y_test)"
   ]
  },
  {
   "cell_type": "code",
   "execution_count": null,
   "id": "a39b9648",
   "metadata": {},
   "outputs": [],
   "source": [
    "de.plot_residuals(lin_reg, X_test_df,y_test)"
   ]
  },
  {
   "cell_type": "code",
   "execution_count": null,
   "id": "c3893e7c",
   "metadata": {},
   "outputs": [],
   "source": [
    "# accessing the .coef_ \n",
    "coeffs = lin_reg.coef_\n",
    "coeffs"
   ]
  },
  {
   "cell_type": "code",
   "execution_count": null,
   "id": "c7486d6a",
   "metadata": {},
   "outputs": [],
   "source": [
    "# Intercept\n",
    "intercept = lin_reg.intercept_\n",
    "intercept"
   ]
  },
  {
   "cell_type": "code",
   "execution_count": null,
   "id": "2a59f92d",
   "metadata": {},
   "outputs": [],
   "source": [
    "get_coefficients(lin_reg)"
   ]
  },
  {
   "cell_type": "code",
   "execution_count": null,
   "id": "6bee2009",
   "metadata": {},
   "outputs": [],
   "source": [
    "pd.set_option('display.float_format', lambda x: f\"{x:,.2f}\")"
   ]
  },
  {
   "cell_type": "code",
   "execution_count": null,
   "id": "7953844d",
   "metadata": {},
   "outputs": [],
   "source": [
    "## Saving the coefficients\n",
    "coefs = pd.Series(coeffs, index=lin_reg.feature_names_in_)\n",
    "coefs"
   ]
  },
  {
   "cell_type": "code",
   "execution_count": null,
   "id": "daf565ee",
   "metadata": {},
   "outputs": [],
   "source": [
    "#Showing sorted coefficients\n",
    "coefs.sort_values()"
   ]
  },
  {
   "cell_type": "markdown",
   "id": "125e818e",
   "metadata": {},
   "source": [
    "Before dropping Item_Type:\n",
    "- Intercept: Our model assumed a baseline score of -69,552.21\n",
    "- Unscaled:\n",
    "   - Positive:\n",
    "   - Outlet_Type_Supermarket:\n",
    "      - Type 3: This coefficient tells us that adding a Type 3 supermarket increases sales by 3,814.74 rupies.\n",
    "      \n",
    "      - Type 1: Adding a Type 1 supermarket increases sales by 1,511.49 rupies.\n",
    "           \n",
    "     - Type 2: Adding a Type 2 supermarket increases sales by 1,278.18 rupies."
   ]
  },
  {
   "cell_type": "code",
   "execution_count": null,
   "id": "b316511f",
   "metadata": {},
   "outputs": [],
   "source": [
    "coeff_ranks = coefs.abs().rank().sort_values(ascending=False)\n",
    "coeff_ranks"
   ]
  },
  {
   "cell_type": "markdown",
   "id": "fed23ee1",
   "metadata": {},
   "source": [
    "- Outlet_Type_Supermarket Type 3 is the most important to the target but Type 1 & 2 are also almost equally important."
   ]
  },
  {
   "cell_type": "code",
   "execution_count": null,
   "id": "85cd26d5",
   "metadata": {},
   "outputs": [],
   "source": [
    "## Getting a list of all of the Item_Type columns\n",
    "item_types = [i for i in X_train_df.columns if i.startswith('Item_Type')]\n",
    "item_types"
   ]
  },
  {
   "cell_type": "code",
   "execution_count": null,
   "id": "a6974398",
   "metadata": {},
   "outputs": [],
   "source": [
    "ax = coefs[item_types].sort_values().plot(kind='barh', figsize=(8,10))\n",
    "ax.axvline(0, color='k')\n",
    "ax.set(xlabel=\"Item_Outlet_Sales\", title=\"Coefficients - Item_Type\");"
   ]
  },
  {
   "cell_type": "markdown",
   "id": "c2d40fe9",
   "metadata": {},
   "source": [
    "- In Item_Type the most more seafood has a positive effect on sales and more dairy has a negative effect."
   ]
  },
  {
   "cell_type": "code",
   "execution_count": null,
   "id": "ebbef6a6",
   "metadata": {},
   "outputs": [],
   "source": [
    "## Plotting everything but Item_Type\n",
    "ax = coefs.drop(item_types).sort_values().plot(kind='barh')#, figsize=(8,26))\n",
    "ax.axvline(0)\n",
    "ax.set(xlabel=\"Item_Outlet_Sales\", title=\"Coefficients - Without Item_Type\");"
   ]
  },
  {
   "cell_type": "markdown",
   "id": "3e428bb4",
   "metadata": {},
   "source": [
    "# Model 2"
   ]
  },
  {
   "cell_type": "code",
   "execution_count": null,
   "id": "99845062",
   "metadata": {},
   "outputs": [],
   "source": [
    "lin_reg= LinearRegression(fit_intercept=False)\n",
    "lin_reg.fit(X_train_df,y_train)\n",
    "evaluate_regression(lin_reg, X_train_df, y_train, \n",
    "                    X_test_df, y_test)"
   ]
  },
  {
   "cell_type": "code",
   "execution_count": null,
   "id": "e2622243",
   "metadata": {},
   "outputs": [],
   "source": [
    "de.plot_residuals(lin_reg, X_test_df,y_test)"
   ]
  },
  {
   "cell_type": "code",
   "execution_count": null,
   "id": "4cbcb8f3",
   "metadata": {},
   "outputs": [],
   "source": [
    "coeffs = lin_reg.coef_\n",
    "coeffs"
   ]
  },
  {
   "cell_type": "code",
   "execution_count": null,
   "id": "f60fc0d5",
   "metadata": {},
   "outputs": [],
   "source": [
    "get_coefficients(lin_reg)"
   ]
  },
  {
   "cell_type": "code",
   "execution_count": null,
   "id": "e98e8056",
   "metadata": {},
   "outputs": [],
   "source": [
    "pd.set_option('display.float_format', lambda x: f\"{x:,.2f}\")"
   ]
  },
  {
   "cell_type": "code",
   "execution_count": null,
   "id": "02164179",
   "metadata": {},
   "outputs": [],
   "source": [
    "## Saving the coefficients\n",
    "coeffs_noint = pd.Series(coeffs, index=lin_reg.feature_names_in_)\n",
    "coeffs_noint"
   ]
  },
  {
   "cell_type": "code",
   "execution_count": null,
   "id": "45f8611a",
   "metadata": {},
   "outputs": [],
   "source": [
    "ax = coeffs_noint[item_types].sort_values().plot(kind='barh', figsize=(8,10))\n",
    "ax.axvline(0)\n",
    "ax.set(xlabel=\"Item_Outlet_Sales\", title=\"Coefficients - Item_Type\");"
   ]
  },
  {
   "cell_type": "markdown",
   "id": "e1e7fafe",
   "metadata": {},
   "source": [
    "- Item_Type_Seafood is the biggest Item_Type that contributes to higher Item_Outlet_Sales."
   ]
  },
  {
   "cell_type": "code",
   "execution_count": null,
   "id": "ff306547",
   "metadata": {},
   "outputs": [],
   "source": [
    "## Plotting everything but Item_Type\n",
    "ax = coeffs_noint.drop(item_types).sort_values().plot(kind='barh')#, figsize=(8,26))\n",
    "ax.axvline(0)\n",
    "ax.set(xlabel=\"Item_Outlet_Sales\", title=\"Coefficients - Without Item_Type\");"
   ]
  },
  {
   "cell_type": "markdown",
   "id": "b7fdc29b",
   "metadata": {},
   "source": [
    "# Model #3 - No Item_Type"
   ]
  },
  {
   "cell_type": "code",
   "execution_count": null,
   "id": "19aa34c8",
   "metadata": {},
   "outputs": [],
   "source": [
    "### Train Test Split\n",
    "## Making x and y variables\n",
    "target = \"Item_Outlet_Sales\"\n",
    "drop_feats = [\"Item_Type\"]\n",
    "\n",
    "y = df[target].copy()\n",
    "X = df.drop(columns=[target, *drop_feats]).copy()\n",
    "\n",
    "## train-test-split with random state for reproducibility\n",
    "X_train, X_test, y_train, y_test = train_test_split(X,y, random_state=42)\n",
    "\n",
    "## Making numeric preprocessing pipeline\n",
    "num_sel = make_column_selector(dtype_include='number')\n",
    "num_pipe = make_pipeline(SimpleImputer(strategy='mean'))\n",
    "\n",
    "\n",
    "## Making categorical preprocessing pipeline\n",
    "cat_sel = make_column_selector(dtype_include='object')\n",
    "cat_pipe = make_pipeline(SimpleImputer(strategy='constant',\n",
    "                                       fill_value='MISSING'),\n",
    "                         OneHotEncoder(handle_unknown='ignore', sparse=False))"
   ]
  },
  {
   "cell_type": "code",
   "execution_count": null,
   "id": "42159901",
   "metadata": {},
   "outputs": [],
   "source": [
    "preprocessor.fit(X_train)\n",
    "feature_names = preprocessor.get_feature_names_out()\n",
    "X_train_df = pd.DataFrame(preprocessor.transform(X_train),\n",
    "                          columns=feature_names,\n",
    "                         index=X_train.index)\n",
    "X_test_df = pd.DataFrame(preprocessor.transform(X_test),\n",
    "                          columns=feature_names,\n",
    "                         index=X_test.index)"
   ]
  },
  {
   "cell_type": "code",
   "execution_count": null,
   "id": "393f9b11",
   "metadata": {},
   "outputs": [],
   "source": [
    "lin_reg_no = LinearRegression(fit_intercept=False)\n",
    "lin_reg.fit(X_train_df,y_train)\n",
    "evaluate_regression(lin_reg, X_train_df, y_train, \n",
    "                    X_test_df, y_test)"
   ]
  },
  {
   "cell_type": "code",
   "execution_count": null,
   "id": "660ded29",
   "metadata": {},
   "outputs": [],
   "source": [
    "de.plot_residuals(lin_reg, X_test_df,y_test)"
   ]
  },
  {
   "cell_type": "code",
   "execution_count": null,
   "id": "8bfe4436",
   "metadata": {},
   "outputs": [],
   "source": [
    "coeffs_3 = get_coefficients(lin_reg)\n",
    "coeffs_3.sort_values()"
   ]
  },
  {
   "cell_type": "code",
   "execution_count": null,
   "id": "e0c5df70",
   "metadata": {},
   "outputs": [],
   "source": [
    "coeffs_3.sort_values().plot(kind='barh')"
   ]
  },
  {
   "cell_type": "code",
   "execution_count": null,
   "id": "ae7e216a",
   "metadata": {},
   "outputs": [],
   "source": [
    "lin_reg.intercept_"
   ]
  },
  {
   "cell_type": "markdown",
   "id": "4cbd6128",
   "metadata": {},
   "source": [
    "# Model 3: Dropping First Duplicate Categories with OneHotEncoder"
   ]
  },
  {
   "cell_type": "code",
   "execution_count": null,
   "id": "9b37d837",
   "metadata": {},
   "outputs": [],
   "source": [
    "## making pipelines for categorical vs numeric data\n",
    "cat_pipe = make_pipeline(SimpleImputer(strategy='constant',\n",
    "                                       fill_value='MISSING'),\n",
    "                         OneHotEncoder(drop='first', sparse=False,\n",
    "                                      ))\n",
    "cat_pipe"
   ]
  },
  {
   "cell_type": "code",
   "execution_count": null,
   "id": "0bd72fa2",
   "metadata": {},
   "outputs": [],
   "source": [
    "num_pipe = make_pipeline(SimpleImputer(strategy='mean'))\n",
    "\n",
    "## making the preprocessing column transformer\n",
    "preprocessor = make_column_transformer((num_pipe, num_sel),\n",
    "                                       (cat_pipe,cat_sel),\n",
    "                                      verbose_feature_names_out=False)\n",
    "preprocessor\n",
    "\n",
    "preprocessor.fit(X_train)\n",
    "feature_names = preprocessor.get_feature_names_out()\n",
    "\n",
    "X_train_df = pd.DataFrame(preprocessor.transform(X_train),\n",
    "                          columns=feature_names,\n",
    "                         index=X_train.index)\n",
    "X_test_df = pd.DataFrame(preprocessor.transform(X_test),\n",
    "                          columns=feature_names,\n",
    "                         index=X_test.index)\n",
    "display(X_train_df.head())"
   ]
  },
  {
   "cell_type": "code",
   "execution_count": null,
   "id": "f2bb9ef5",
   "metadata": {},
   "outputs": [],
   "source": [
    "lin_reg_drop = LinearRegression(fit_intercept=False)\n",
    "lin_reg_drop.fit(X_train_df,y_train)\n",
    "evaluate_regression(lin_reg_drop, X_train_df, y_train, \n",
    "                    X_test_df, y_test)\n",
    "\n",
    "de.plot_residuals(lin_reg_drop, X_test_df,y_test)"
   ]
  },
  {
   "cell_type": "code",
   "execution_count": null,
   "id": "7cabe25f",
   "metadata": {},
   "outputs": [],
   "source": [
    "# extracting and plotting coefficients without Item_Type\n",
    "coeffs_dropped = get_coefficients(lin_reg_drop)\n",
    "\n",
    "\n",
    "ax = coeffs_dropped.sort_values().plot(kind='barh')#, figsize=(8,26))\n",
    "ax.axvline(0)\n",
    "ax.set(xlabel=\"Item_Outlet_Sales\", title=\"Coefficients - Without Item_Type\");"
   ]
  },
  {
   "cell_type": "code",
   "execution_count": null,
   "id": "340f28c1",
   "metadata": {},
   "outputs": [],
   "source": [
    "ax = plot_coeffs(coeffs_dropped,top_n=10, annotate=True);\n",
    "ax.set_title('Top 10 Largest Coefficients, w/o Item_Type');\n",
    "fig_gcf = plt.gcf()"
   ]
  },
  {
   "cell_type": "markdown",
   "id": "18c3dfaf",
   "metadata": {},
   "source": [
    "After dropping Item_Type:\n",
    "- Intercept: Our model assumed a baseline score of 0\n",
    "- Unscaled:\n",
    "   - Positive:\n",
    "   - Outlet_Type_Supermarket:\n",
    "      - Type 3: This coefficient tells us that adding a Type 3 supermarket increases sales by 3,119.64 rupies.\n",
    "      \n",
    "      - Type 1: Adding a Type 1 supermarket increases sales by 1888.05 rupies.\n",
    "           \n",
    "     - Type 2: Adding a Type 2 supermarket increases sales by 1,432.61 rupies."
   ]
  },
  {
   "cell_type": "markdown",
   "id": "2e7f8a3a",
   "metadata": {},
   "source": [
    "# Random Regression"
   ]
  },
  {
   "cell_type": "code",
   "execution_count": null,
   "id": "9b1993b4",
   "metadata": {},
   "outputs": [],
   "source": [
    "rf_reg = RandomForestRegressor()\n",
    "rf_reg.fit(X_train_df,y_train)\n",
    "evaluate_regression(rf_reg, X_train_df, y_train, \n",
    "                    X_test_df, y_test)"
   ]
  },
  {
   "cell_type": "code",
   "execution_count": null,
   "id": "8b29fdb7",
   "metadata": {
    "scrolled": true
   },
   "outputs": [],
   "source": [
    "importances = pd.Series(rf_reg.feature_importances_, index=rf_reg.feature_names_in_)\n",
    "importances.sort_values()"
   ]
  },
  {
   "cell_type": "code",
   "execution_count": null,
   "id": "8a40f0d5",
   "metadata": {},
   "outputs": [],
   "source": [
    "get_importances(rf_reg)"
   ]
  },
  {
   "cell_type": "code",
   "execution_count": null,
   "id": "6f2bb6d5",
   "metadata": {},
   "outputs": [],
   "source": [
    "ax = importances.sort_values().plot(kind='barh')#,figsize=(6,4))\n",
    "ax.axvline(0, color='k')\n",
    "ax.set(title='Feature Importance - Decision Tree Regressor',ylabel=\"Feature Name\",\n",
    "      xlabel='Importance');\n",
    "fig = plt.gcf()"
   ]
  },
  {
   "cell_type": "code",
   "execution_count": null,
   "id": "7c04edfd",
   "metadata": {},
   "outputs": [],
   "source": [
    "coeffs_dropped = get_coefficients(lin_reg_drop)\n",
    "\n",
    "ax = plot_coeffs(coeffs_dropped, annotate=True);\n",
    "ax.set_title(\"Largest Coefficients- Without Item_Type\");\n",
    "fig2 = plt.gcf()"
   ]
  },
  {
   "cell_type": "code",
   "execution_count": null,
   "id": "e2b9f568",
   "metadata": {},
   "outputs": [],
   "source": [
    "X_train.head()"
   ]
  },
  {
   "cell_type": "code",
   "execution_count": null,
   "id": "f2d9360f",
   "metadata": {},
   "outputs": [],
   "source": [
    "evaluate_regression(lin_reg_drop,X_train_df,y_train, X_test_df, y_test)"
   ]
  },
  {
   "cell_type": "code",
   "execution_count": null,
   "id": "b0f0f2ee",
   "metadata": {},
   "outputs": [],
   "source": [
    "evaluate_regression(rf_reg,X_train_df,y_train, X_test_df, y_test)"
   ]
  },
  {
   "cell_type": "code",
   "execution_count": null,
   "id": "fc758f0d",
   "metadata": {},
   "outputs": [],
   "source": [
    "import joblib, os\n",
    "\n",
    "## creating a dictionary of all of the variables to save for later\n",
    "export = {'X_train':X_train,\n",
    "         'y_train':y_train,\n",
    "         'X_test':X_test,\n",
    "         'y_test':y_test,\n",
    "          'preprocessor':preprocessor,\n",
    "         'LinearRegression': lin_reg_drop,\n",
    "          'RandomForestRegressor':rf_reg}\n"
   ]
  },
  {
   "cell_type": "code",
   "execution_count": null,
   "id": "4d7e30d4",
   "metadata": {},
   "outputs": [],
   "source": [
    "folder = 'Models/'\n",
    "os.makedirs(folder, exist_ok=True)"
   ]
  },
  {
   "cell_type": "code",
   "execution_count": null,
   "id": "2a7f17f0",
   "metadata": {},
   "outputs": [],
   "source": [
    "fname=folder + 'best-models.joblib'\n",
    "joblib.dump(export, fname)"
   ]
  },
  {
   "cell_type": "code",
   "execution_count": null,
   "id": "54c4a3fe",
   "metadata": {},
   "outputs": [],
   "source": [
    "loaded = joblib.load(fname)\n",
    "loaded.keys()"
   ]
  },
  {
   "cell_type": "code",
   "execution_count": null,
   "id": "88bba736",
   "metadata": {},
   "outputs": [],
   "source": []
  }
 ],
 "metadata": {
  "kernelspec": {
   "display_name": "Python (dojo-env)",
   "language": "python",
   "name": "dojo-env"
  },
  "language_info": {
   "codemirror_mode": {
    "name": "ipython",
    "version": 3
   },
   "file_extension": ".py",
   "mimetype": "text/x-python",
   "name": "python",
   "nbconvert_exporter": "python",
   "pygments_lexer": "ipython3",
   "version": "3.9.15"
  },
  "toc": {
   "base_numbering": 1,
   "nav_menu": {},
   "number_sections": false,
   "sideBar": true,
   "skip_h1_title": false,
   "title_cell": "Table of Contents",
   "title_sidebar": "Contents",
   "toc_cell": false,
   "toc_position": {
    "height": "calc(100% - 180px)",
    "left": "10px",
    "top": "150px",
    "width": "355.556px"
   },
   "toc_section_display": true,
   "toc_window_display": true
  }
 },
 "nbformat": 4,
 "nbformat_minor": 5
}
