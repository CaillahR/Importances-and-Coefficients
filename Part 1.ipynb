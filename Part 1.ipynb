{
 "cells": [
  {
   "cell_type": "code",
   "execution_count": 1,
   "id": "ac86d904",
   "metadata": {},
   "outputs": [],
   "source": [
    "#Import\n",
    "import seaborn as sns\n",
    "import pandas as pd\n",
    "import numpy as np\n",
    "from sklearn.preprocessing import StandardScaler, OneHotEncoder\n",
    "from sklearn.impute import SimpleImputer\n",
    "from sklearn.compose import make_column_transformer, make_column_selector\n",
    "from sklearn.pipeline import make_pipeline\n",
    "from sklearn.model_selection import train_test_split\n",
    "from sklearn import set_config\n",
    "from sklearn.linear_model import LinearRegression\n",
    "from sklearn import metrics\n",
    "from sklearn.tree import DecisionTreeRegressor\n",
    "from sklearn.ensemble import RandomForestRegressor\n",
    "import joblib\n",
    "set_config(display='diagram')\n",
    "\n",
    "filename = \"Data/sales_predictions.csv\"\n",
    "df = pd.read_csv(filename)\n"
   ]
  },
  {
   "cell_type": "code",
   "execution_count": 2,
   "id": "b366162a",
   "metadata": {},
   "outputs": [],
   "source": [
    "\n",
    "## setting random state for reproducibility\n",
    "SEED = 321\n",
    "np.random.seed(SEED)\n",
    "## set pandas to display more columns\n",
    "pd.set_option('display.max_columns',50)\n",
    "\n"
   ]
  },
  {
   "cell_type": "code",
   "execution_count": 3,
   "id": "64911e3a",
   "metadata": {},
   "outputs": [
    {
     "name": "stdout",
     "output_type": "stream",
     "text": [
      "Python 3.9.15\n",
      "sklearn version: 1.1.3\n"
     ]
    }
   ],
   "source": [
    "# Run the following command on your local computer to check the version of sklearn\n",
    "import sklearn\n",
    "!python --version\n",
    "print(f\"sklearn version: {sklearn.__version__}\")"
   ]
  },
  {
   "cell_type": "code",
   "execution_count": 4,
   "id": "88eb219e",
   "metadata": {},
   "outputs": [],
   "source": [
    "# set text displays for sklearn\n",
    "from sklearn import set_config\n",
    "set_config(display='text')\n"
   ]
  },
  {
   "cell_type": "code",
   "execution_count": 5,
   "id": "839b09fb",
   "metadata": {},
   "outputs": [],
   "source": [
    "def evaluate_regression(model, X_train,y_train, X_test, y_test): \n",
    "    \"\"\"Evaluates a scikit learn regression model using r-squared and RMSE\"\"\"\n",
    "    \n",
    "    ## Training Data\n",
    "    y_pred_train = model.predict(X_train)\n",
    "    r2_train = metrics.r2_score(y_train, y_pred_train)\n",
    "    rmse_train = metrics.mean_squared_error(y_train, y_pred_train, \n",
    "                                            squared=False)\n",
    "    \n",
    "    print(f\"Training Data:\\tR^2= {r2_train:.2f}\\tRMSE= {rmse_train:.2f}\")\n",
    "        \n",
    "    \n",
    "    ## Test Data\n",
    "    y_pred_test = model.predict(X_test)\n",
    "    r2_test = metrics.r2_score(y_test, y_pred_test)\n",
    "    rmse_test = metrics.mean_squared_error(y_test, y_pred_test, \n",
    "                                            squared=False)\n",
    "    \n",
    "    print(f\"Test Data:\\tR^2= {r2_test:.2f}\\tRMSE= {rmse_test:.2f}\")\n"
   ]
  },
  {
   "cell_type": "code",
   "execution_count": 6,
   "id": "febdf1d9",
   "metadata": {},
   "outputs": [],
   "source": [
    "def get_coeffs_linreg(lin_reg, feature_names = None, sort=True,ascending=True,\n",
    "                     name='LinearRegression Coefficients'):\n",
    "    if feature_names is None:\n",
    "        feature_names = lin_reg.feature_names_in_\n",
    "    ## Saving the coefficients\n",
    "    coeffs = pd.Series(lin_reg.coef_, index= feature_names)\n",
    "    coeffs['intercept'] = lin_reg.intercept_\n",
    "    if sort==True:\n",
    "        coeffs = coeffs.sort_values(ascending=ascending)\n",
    "    return coeffs\n",
    "\n"
   ]
  },
  {
   "cell_type": "code",
   "execution_count": 7,
   "id": "2a6e6513",
   "metadata": {},
   "outputs": [],
   "source": [
    "def get_importances(model, feature_names=None,name='Feature Importance',\n",
    "                   sort=False, ascending=True):\n",
    "    \n",
    "    ## checking for feature names\n",
    "    if feature_names == None:\n",
    "        feature_names = model.feature_names_in_\n",
    "        \n",
    "    ## Saving the feature importances\n",
    "    importances = pd.Series(model.feature_importances_, index= feature_names,\n",
    "                           name=name)\n",
    "    \n",
    "    # sort importances\n",
    "    if sort == True:\n",
    "        importances = importances.sort_values(ascending=ascending)\n",
    "        \n",
    "    return importances\n",
    "\n"
   ]
  },
  {
   "cell_type": "code",
   "execution_count": 8,
   "id": "9e21cd22",
   "metadata": {},
   "outputs": [],
   "source": [
    "def plot_importance(importances, top_n=None,  figsize=(8,6)):\n",
    "    # sorting with asc=false for correct order of bars\n",
    "    if top_n==None:\n",
    "        ## sort all features and set title\n",
    "        plot_vals = importances.sort_values()\n",
    "        title = \"All Features - Ranked by Importance\"\n",
    "    else:\n",
    "        ## sort features and keep top_n and set title\n",
    "        plot_vals = importances.sort_values().tail(top_n)\n",
    "        title = f\"Top {top_n} Most Important Features\"\n",
    "    ## plotting top N importances\n",
    "    ax = plot_vals.plot(kind='barh', figsize=figsize)\n",
    "    ax.set(xlabel='Importance',\n",
    "            ylabel='Feature Names',\n",
    "            title=title)\n",
    "    ## return ax in case want to continue to update/modify figure\n",
    "    return ax\n",
    "\n"
   ]
  },
  {
   "cell_type": "markdown",
   "id": "dc241034",
   "metadata": {},
   "source": [
    "- Checking for missing values.\n",
    "- Then filling data for missing values and confirming change.\n"
   ]
  },
  {
   "cell_type": "code",
   "execution_count": 9,
   "id": "7bed4996",
   "metadata": {},
   "outputs": [
    {
     "name": "stdout",
     "output_type": "stream",
     "text": [
      "<class 'pandas.core.frame.DataFrame'>\n",
      "RangeIndex: 8523 entries, 0 to 8522\n",
      "Data columns (total 12 columns):\n",
      " #   Column                     Non-Null Count  Dtype  \n",
      "---  ------                     --------------  -----  \n",
      " 0   Item_Identifier            8523 non-null   object \n",
      " 1   Item_Weight                7060 non-null   float64\n",
      " 2   Item_Fat_Content           8523 non-null   object \n",
      " 3   Item_Visibility            8523 non-null   float64\n",
      " 4   Item_Type                  8523 non-null   object \n",
      " 5   Item_MRP                   8523 non-null   float64\n",
      " 6   Outlet_Identifier          8523 non-null   object \n",
      " 7   Outlet_Establishment_Year  8523 non-null   int64  \n",
      " 8   Outlet_Size                6113 non-null   object \n",
      " 9   Outlet_Location_Type       8523 non-null   object \n",
      " 10  Outlet_Type                8523 non-null   object \n",
      " 11  Item_Outlet_Sales          8523 non-null   float64\n",
      "dtypes: float64(4), int64(1), object(7)\n",
      "memory usage: 799.2+ KB\n"
     ]
    },
    {
     "data": {
      "text/html": [
       "<div>\n",
       "<style scoped>\n",
       "    .dataframe tbody tr th:only-of-type {\n",
       "        vertical-align: middle;\n",
       "    }\n",
       "\n",
       "    .dataframe tbody tr th {\n",
       "        vertical-align: top;\n",
       "    }\n",
       "\n",
       "    .dataframe thead th {\n",
       "        text-align: right;\n",
       "    }\n",
       "</style>\n",
       "<table border=\"1\" class=\"dataframe\">\n",
       "  <thead>\n",
       "    <tr style=\"text-align: right;\">\n",
       "      <th></th>\n",
       "      <th>Item_Identifier</th>\n",
       "      <th>Item_Weight</th>\n",
       "      <th>Item_Fat_Content</th>\n",
       "      <th>Item_Visibility</th>\n",
       "      <th>Item_Type</th>\n",
       "      <th>Item_MRP</th>\n",
       "      <th>Outlet_Identifier</th>\n",
       "      <th>Outlet_Establishment_Year</th>\n",
       "      <th>Outlet_Size</th>\n",
       "      <th>Outlet_Location_Type</th>\n",
       "      <th>Outlet_Type</th>\n",
       "      <th>Item_Outlet_Sales</th>\n",
       "    </tr>\n",
       "  </thead>\n",
       "  <tbody>\n",
       "    <tr>\n",
       "      <th>0</th>\n",
       "      <td>FDA15</td>\n",
       "      <td>9.30</td>\n",
       "      <td>Low Fat</td>\n",
       "      <td>0.016047</td>\n",
       "      <td>Dairy</td>\n",
       "      <td>249.8092</td>\n",
       "      <td>OUT049</td>\n",
       "      <td>1999</td>\n",
       "      <td>Medium</td>\n",
       "      <td>Tier 1</td>\n",
       "      <td>Supermarket Type1</td>\n",
       "      <td>3735.1380</td>\n",
       "    </tr>\n",
       "    <tr>\n",
       "      <th>1</th>\n",
       "      <td>DRC01</td>\n",
       "      <td>5.92</td>\n",
       "      <td>Regular</td>\n",
       "      <td>0.019278</td>\n",
       "      <td>Soft Drinks</td>\n",
       "      <td>48.2692</td>\n",
       "      <td>OUT018</td>\n",
       "      <td>2009</td>\n",
       "      <td>Medium</td>\n",
       "      <td>Tier 3</td>\n",
       "      <td>Supermarket Type2</td>\n",
       "      <td>443.4228</td>\n",
       "    </tr>\n",
       "    <tr>\n",
       "      <th>2</th>\n",
       "      <td>FDN15</td>\n",
       "      <td>17.50</td>\n",
       "      <td>Low Fat</td>\n",
       "      <td>0.016760</td>\n",
       "      <td>Meat</td>\n",
       "      <td>141.6180</td>\n",
       "      <td>OUT049</td>\n",
       "      <td>1999</td>\n",
       "      <td>Medium</td>\n",
       "      <td>Tier 1</td>\n",
       "      <td>Supermarket Type1</td>\n",
       "      <td>2097.2700</td>\n",
       "    </tr>\n",
       "    <tr>\n",
       "      <th>3</th>\n",
       "      <td>FDX07</td>\n",
       "      <td>19.20</td>\n",
       "      <td>Regular</td>\n",
       "      <td>0.000000</td>\n",
       "      <td>Fruits and Vegetables</td>\n",
       "      <td>182.0950</td>\n",
       "      <td>OUT010</td>\n",
       "      <td>1998</td>\n",
       "      <td>NaN</td>\n",
       "      <td>Tier 3</td>\n",
       "      <td>Grocery Store</td>\n",
       "      <td>732.3800</td>\n",
       "    </tr>\n",
       "    <tr>\n",
       "      <th>4</th>\n",
       "      <td>NCD19</td>\n",
       "      <td>8.93</td>\n",
       "      <td>Low Fat</td>\n",
       "      <td>0.000000</td>\n",
       "      <td>Household</td>\n",
       "      <td>53.8614</td>\n",
       "      <td>OUT013</td>\n",
       "      <td>1987</td>\n",
       "      <td>High</td>\n",
       "      <td>Tier 3</td>\n",
       "      <td>Supermarket Type1</td>\n",
       "      <td>994.7052</td>\n",
       "    </tr>\n",
       "  </tbody>\n",
       "</table>\n",
       "</div>"
      ],
      "text/plain": [
       "  Item_Identifier  Item_Weight Item_Fat_Content  Item_Visibility  \\\n",
       "0           FDA15         9.30          Low Fat         0.016047   \n",
       "1           DRC01         5.92          Regular         0.019278   \n",
       "2           FDN15        17.50          Low Fat         0.016760   \n",
       "3           FDX07        19.20          Regular         0.000000   \n",
       "4           NCD19         8.93          Low Fat         0.000000   \n",
       "\n",
       "               Item_Type  Item_MRP Outlet_Identifier  \\\n",
       "0                  Dairy  249.8092            OUT049   \n",
       "1            Soft Drinks   48.2692            OUT018   \n",
       "2                   Meat  141.6180            OUT049   \n",
       "3  Fruits and Vegetables  182.0950            OUT010   \n",
       "4              Household   53.8614            OUT013   \n",
       "\n",
       "   Outlet_Establishment_Year Outlet_Size Outlet_Location_Type  \\\n",
       "0                       1999      Medium               Tier 1   \n",
       "1                       2009      Medium               Tier 3   \n",
       "2                       1999      Medium               Tier 1   \n",
       "3                       1998         NaN               Tier 3   \n",
       "4                       1987        High               Tier 3   \n",
       "\n",
       "         Outlet_Type  Item_Outlet_Sales  \n",
       "0  Supermarket Type1          3735.1380  \n",
       "1  Supermarket Type2           443.4228  \n",
       "2  Supermarket Type1          2097.2700  \n",
       "3      Grocery Store           732.3800  \n",
       "4  Supermarket Type1           994.7052  "
      ]
     },
     "execution_count": 9,
     "metadata": {},
     "output_type": "execute_result"
    }
   ],
   "source": [
    "#Data\n",
    "df.info()\n",
    "df.head()"
   ]
  },
  {
   "cell_type": "code",
   "execution_count": 10,
   "id": "2932498e",
   "metadata": {},
   "outputs": [],
   "source": [
    "df['Item_Fat_Content'].value_counts()\n",
    "df['Item_Fat_Content'] = df['Item_Fat_Content'].replace('low fat', 'Low Fat')\n",
    "df['Item_Fat_Content'] = df['Item_Fat_Content'].replace('LF', 'Low Fat')\n",
    "df['Item_Fat_Content'] = df['Item_Fat_Content'].replace('reg', 'Regular')\n",
    "df = df.dropna()\n",
    "#df[\"Outlet_Size\"] = df[\"Outlet_Size\"].dropna()"
   ]
  },
  {
   "cell_type": "code",
   "execution_count": 11,
   "id": "fcc9a34a",
   "metadata": {},
   "outputs": [],
   "source": [
    "filter_df = (df[\"Item_Weight\"] > 0) & (df[\"Item_Visibility\"] > 0)"
   ]
  },
  {
   "cell_type": "code",
   "execution_count": 12,
   "id": "96839907",
   "metadata": {},
   "outputs": [
    {
     "name": "stderr",
     "output_type": "stream",
     "text": [
      "C:\\Users\\caill\\AppData\\Local\\Temp\\ipykernel_1932\\2290527425.py:2: UserWarning: Boolean Series key will be reindexed to match DataFrame index.\n",
      "  df[filter_df]\n"
     ]
    },
    {
     "data": {
      "text/html": [
       "<div>\n",
       "<style scoped>\n",
       "    .dataframe tbody tr th:only-of-type {\n",
       "        vertical-align: middle;\n",
       "    }\n",
       "\n",
       "    .dataframe tbody tr th {\n",
       "        vertical-align: top;\n",
       "    }\n",
       "\n",
       "    .dataframe thead th {\n",
       "        text-align: right;\n",
       "    }\n",
       "</style>\n",
       "<table border=\"1\" class=\"dataframe\">\n",
       "  <thead>\n",
       "    <tr style=\"text-align: right;\">\n",
       "      <th></th>\n",
       "      <th>Item_Identifier</th>\n",
       "      <th>Item_Weight</th>\n",
       "      <th>Item_Fat_Content</th>\n",
       "      <th>Item_Visibility</th>\n",
       "      <th>Item_Type</th>\n",
       "      <th>Item_MRP</th>\n",
       "      <th>Outlet_Identifier</th>\n",
       "      <th>Outlet_Establishment_Year</th>\n",
       "      <th>Outlet_Size</th>\n",
       "      <th>Outlet_Location_Type</th>\n",
       "      <th>Outlet_Type</th>\n",
       "      <th>Item_Outlet_Sales</th>\n",
       "    </tr>\n",
       "  </thead>\n",
       "  <tbody>\n",
       "    <tr>\n",
       "      <th>0</th>\n",
       "      <td>FDA15</td>\n",
       "      <td>9.300</td>\n",
       "      <td>Low Fat</td>\n",
       "      <td>0.016047</td>\n",
       "      <td>Dairy</td>\n",
       "      <td>249.8092</td>\n",
       "      <td>OUT049</td>\n",
       "      <td>1999</td>\n",
       "      <td>Medium</td>\n",
       "      <td>Tier 1</td>\n",
       "      <td>Supermarket Type1</td>\n",
       "      <td>3735.1380</td>\n",
       "    </tr>\n",
       "    <tr>\n",
       "      <th>1</th>\n",
       "      <td>DRC01</td>\n",
       "      <td>5.920</td>\n",
       "      <td>Regular</td>\n",
       "      <td>0.019278</td>\n",
       "      <td>Soft Drinks</td>\n",
       "      <td>48.2692</td>\n",
       "      <td>OUT018</td>\n",
       "      <td>2009</td>\n",
       "      <td>Medium</td>\n",
       "      <td>Tier 3</td>\n",
       "      <td>Supermarket Type2</td>\n",
       "      <td>443.4228</td>\n",
       "    </tr>\n",
       "    <tr>\n",
       "      <th>2</th>\n",
       "      <td>FDN15</td>\n",
       "      <td>17.500</td>\n",
       "      <td>Low Fat</td>\n",
       "      <td>0.016760</td>\n",
       "      <td>Meat</td>\n",
       "      <td>141.6180</td>\n",
       "      <td>OUT049</td>\n",
       "      <td>1999</td>\n",
       "      <td>Medium</td>\n",
       "      <td>Tier 1</td>\n",
       "      <td>Supermarket Type1</td>\n",
       "      <td>2097.2700</td>\n",
       "    </tr>\n",
       "    <tr>\n",
       "      <th>6</th>\n",
       "      <td>FDO10</td>\n",
       "      <td>13.650</td>\n",
       "      <td>Regular</td>\n",
       "      <td>0.012741</td>\n",
       "      <td>Snack Foods</td>\n",
       "      <td>57.6588</td>\n",
       "      <td>OUT013</td>\n",
       "      <td>1987</td>\n",
       "      <td>High</td>\n",
       "      <td>Tier 3</td>\n",
       "      <td>Supermarket Type1</td>\n",
       "      <td>343.5528</td>\n",
       "    </tr>\n",
       "    <tr>\n",
       "      <th>11</th>\n",
       "      <td>FDA03</td>\n",
       "      <td>18.500</td>\n",
       "      <td>Regular</td>\n",
       "      <td>0.045464</td>\n",
       "      <td>Dairy</td>\n",
       "      <td>144.1102</td>\n",
       "      <td>OUT046</td>\n",
       "      <td>1997</td>\n",
       "      <td>Small</td>\n",
       "      <td>Tier 1</td>\n",
       "      <td>Supermarket Type1</td>\n",
       "      <td>2187.1530</td>\n",
       "    </tr>\n",
       "    <tr>\n",
       "      <th>...</th>\n",
       "      <td>...</td>\n",
       "      <td>...</td>\n",
       "      <td>...</td>\n",
       "      <td>...</td>\n",
       "      <td>...</td>\n",
       "      <td>...</td>\n",
       "      <td>...</td>\n",
       "      <td>...</td>\n",
       "      <td>...</td>\n",
       "      <td>...</td>\n",
       "      <td>...</td>\n",
       "      <td>...</td>\n",
       "    </tr>\n",
       "    <tr>\n",
       "      <th>8517</th>\n",
       "      <td>FDF53</td>\n",
       "      <td>20.750</td>\n",
       "      <td>Regular</td>\n",
       "      <td>0.083607</td>\n",
       "      <td>Frozen Foods</td>\n",
       "      <td>178.8318</td>\n",
       "      <td>OUT046</td>\n",
       "      <td>1997</td>\n",
       "      <td>Small</td>\n",
       "      <td>Tier 1</td>\n",
       "      <td>Supermarket Type1</td>\n",
       "      <td>3608.6360</td>\n",
       "    </tr>\n",
       "    <tr>\n",
       "      <th>8518</th>\n",
       "      <td>FDF22</td>\n",
       "      <td>6.865</td>\n",
       "      <td>Low Fat</td>\n",
       "      <td>0.056783</td>\n",
       "      <td>Snack Foods</td>\n",
       "      <td>214.5218</td>\n",
       "      <td>OUT013</td>\n",
       "      <td>1987</td>\n",
       "      <td>High</td>\n",
       "      <td>Tier 3</td>\n",
       "      <td>Supermarket Type1</td>\n",
       "      <td>2778.3834</td>\n",
       "    </tr>\n",
       "    <tr>\n",
       "      <th>8520</th>\n",
       "      <td>NCJ29</td>\n",
       "      <td>10.600</td>\n",
       "      <td>Low Fat</td>\n",
       "      <td>0.035186</td>\n",
       "      <td>Health and Hygiene</td>\n",
       "      <td>85.1224</td>\n",
       "      <td>OUT035</td>\n",
       "      <td>2004</td>\n",
       "      <td>Small</td>\n",
       "      <td>Tier 2</td>\n",
       "      <td>Supermarket Type1</td>\n",
       "      <td>1193.1136</td>\n",
       "    </tr>\n",
       "    <tr>\n",
       "      <th>8521</th>\n",
       "      <td>FDN46</td>\n",
       "      <td>7.210</td>\n",
       "      <td>Regular</td>\n",
       "      <td>0.145221</td>\n",
       "      <td>Snack Foods</td>\n",
       "      <td>103.1332</td>\n",
       "      <td>OUT018</td>\n",
       "      <td>2009</td>\n",
       "      <td>Medium</td>\n",
       "      <td>Tier 3</td>\n",
       "      <td>Supermarket Type2</td>\n",
       "      <td>1845.5976</td>\n",
       "    </tr>\n",
       "    <tr>\n",
       "      <th>8522</th>\n",
       "      <td>DRG01</td>\n",
       "      <td>14.800</td>\n",
       "      <td>Low Fat</td>\n",
       "      <td>0.044878</td>\n",
       "      <td>Soft Drinks</td>\n",
       "      <td>75.4670</td>\n",
       "      <td>OUT046</td>\n",
       "      <td>1997</td>\n",
       "      <td>Small</td>\n",
       "      <td>Tier 1</td>\n",
       "      <td>Supermarket Type1</td>\n",
       "      <td>765.6700</td>\n",
       "    </tr>\n",
       "  </tbody>\n",
       "</table>\n",
       "<p>4358 rows × 12 columns</p>\n",
       "</div>"
      ],
      "text/plain": [
       "     Item_Identifier  Item_Weight Item_Fat_Content  Item_Visibility  \\\n",
       "0              FDA15        9.300          Low Fat         0.016047   \n",
       "1              DRC01        5.920          Regular         0.019278   \n",
       "2              FDN15       17.500          Low Fat         0.016760   \n",
       "6              FDO10       13.650          Regular         0.012741   \n",
       "11             FDA03       18.500          Regular         0.045464   \n",
       "...              ...          ...              ...              ...   \n",
       "8517           FDF53       20.750          Regular         0.083607   \n",
       "8518           FDF22        6.865          Low Fat         0.056783   \n",
       "8520           NCJ29       10.600          Low Fat         0.035186   \n",
       "8521           FDN46        7.210          Regular         0.145221   \n",
       "8522           DRG01       14.800          Low Fat         0.044878   \n",
       "\n",
       "               Item_Type  Item_MRP Outlet_Identifier  \\\n",
       "0                  Dairy  249.8092            OUT049   \n",
       "1            Soft Drinks   48.2692            OUT018   \n",
       "2                   Meat  141.6180            OUT049   \n",
       "6            Snack Foods   57.6588            OUT013   \n",
       "11                 Dairy  144.1102            OUT046   \n",
       "...                  ...       ...               ...   \n",
       "8517        Frozen Foods  178.8318            OUT046   \n",
       "8518         Snack Foods  214.5218            OUT013   \n",
       "8520  Health and Hygiene   85.1224            OUT035   \n",
       "8521         Snack Foods  103.1332            OUT018   \n",
       "8522         Soft Drinks   75.4670            OUT046   \n",
       "\n",
       "      Outlet_Establishment_Year Outlet_Size Outlet_Location_Type  \\\n",
       "0                          1999      Medium               Tier 1   \n",
       "1                          2009      Medium               Tier 3   \n",
       "2                          1999      Medium               Tier 1   \n",
       "6                          1987        High               Tier 3   \n",
       "11                         1997       Small               Tier 1   \n",
       "...                         ...         ...                  ...   \n",
       "8517                       1997       Small               Tier 1   \n",
       "8518                       1987        High               Tier 3   \n",
       "8520                       2004       Small               Tier 2   \n",
       "8521                       2009      Medium               Tier 3   \n",
       "8522                       1997       Small               Tier 1   \n",
       "\n",
       "            Outlet_Type  Item_Outlet_Sales  \n",
       "0     Supermarket Type1          3735.1380  \n",
       "1     Supermarket Type2           443.4228  \n",
       "2     Supermarket Type1          2097.2700  \n",
       "6     Supermarket Type1           343.5528  \n",
       "11    Supermarket Type1          2187.1530  \n",
       "...                 ...                ...  \n",
       "8517  Supermarket Type1          3608.6360  \n",
       "8518  Supermarket Type1          2778.3834  \n",
       "8520  Supermarket Type1          1193.1136  \n",
       "8521  Supermarket Type2          1845.5976  \n",
       "8522  Supermarket Type1           765.6700  \n",
       "\n",
       "[4358 rows x 12 columns]"
      ]
     },
     "execution_count": 12,
     "metadata": {},
     "output_type": "execute_result"
    }
   ],
   "source": [
    "df = df[filter_df]\n",
    "df[filter_df]"
   ]
  },
  {
   "cell_type": "code",
   "execution_count": 13,
   "id": "e0060a78",
   "metadata": {},
   "outputs": [
    {
     "name": "stdout",
     "output_type": "stream",
     "text": [
      "<class 'pandas.core.frame.DataFrame'>\n",
      "Int64Index: 4358 entries, 0 to 8522\n",
      "Data columns (total 12 columns):\n",
      " #   Column                     Non-Null Count  Dtype  \n",
      "---  ------                     --------------  -----  \n",
      " 0   Item_Identifier            4358 non-null   object \n",
      " 1   Item_Weight                4358 non-null   float64\n",
      " 2   Item_Fat_Content           4358 non-null   object \n",
      " 3   Item_Visibility            4358 non-null   float64\n",
      " 4   Item_Type                  4358 non-null   object \n",
      " 5   Item_MRP                   4358 non-null   float64\n",
      " 6   Outlet_Identifier          4358 non-null   object \n",
      " 7   Outlet_Establishment_Year  4358 non-null   int64  \n",
      " 8   Outlet_Size                4358 non-null   object \n",
      " 9   Outlet_Location_Type       4358 non-null   object \n",
      " 10  Outlet_Type                4358 non-null   object \n",
      " 11  Item_Outlet_Sales          4358 non-null   float64\n",
      "dtypes: float64(4), int64(1), object(7)\n",
      "memory usage: 442.6+ KB\n"
     ]
    }
   ],
   "source": [
    "df.info()"
   ]
  },
  {
   "cell_type": "code",
   "execution_count": 14,
   "id": "c93314e6",
   "metadata": {},
   "outputs": [
    {
     "data": {
      "text/plain": [
       "Item_Weight                  False\n",
       "Item_Fat_Content             False\n",
       "Item_Visibility              False\n",
       "Item_Type                    False\n",
       "Item_MRP                     False\n",
       "Outlet_Establishment_Year    False\n",
       "Outlet_Size                  False\n",
       "Outlet_Location_Type         False\n",
       "Outlet_Type                  False\n",
       "dtype: bool"
      ]
     },
     "execution_count": 14,
     "metadata": {},
     "output_type": "execute_result"
    }
   ],
   "source": [
    "#Define X and y\n",
    "X = df.drop(columns = [\"Item_Outlet_Sales\", \"Outlet_Identifier\", \"Item_Identifier\"]).copy()\n",
    "\n",
    "y = df[\"Item_Outlet_Sales\"].copy()\n",
    "\n",
    "\n",
    "#Train test split the data to prepare for machine learning\n",
    "X_train, X_test, y_train, y_test = train_test_split(X, y, random_state=SEED)\n",
    "X_train.isna().any()\n"
   ]
  },
  {
   "cell_type": "code",
   "execution_count": 15,
   "id": "2ada46b4",
   "metadata": {},
   "outputs": [
    {
     "data": {
      "text/plain": [
       "['Item_Fat_Content',\n",
       " 'Item_Type',\n",
       " 'Outlet_Size',\n",
       " 'Outlet_Location_Type',\n",
       " 'Outlet_Type']"
      ]
     },
     "execution_count": 15,
     "metadata": {},
     "output_type": "execute_result"
    }
   ],
   "source": [
    "## make categorical selector and verify it works \n",
    "cat_sel = make_column_selector(dtype_include='object')\n",
    "cat_sel(X_train)"
   ]
  },
  {
   "cell_type": "code",
   "execution_count": 16,
   "id": "2637b3e6",
   "metadata": {},
   "outputs": [
    {
     "data": {
      "text/plain": [
       "['Item_Weight', 'Item_Visibility', 'Item_MRP', 'Outlet_Establishment_Year']"
      ]
     },
     "execution_count": 16,
     "metadata": {},
     "output_type": "execute_result"
    }
   ],
   "source": [
    "## make numeric selector and verify it works \n",
    "num_sel = make_column_selector(dtype_include='number')\n",
    "num_sel(X_train)"
   ]
  },
  {
   "cell_type": "code",
   "execution_count": 17,
   "id": "333bf2a1",
   "metadata": {},
   "outputs": [],
   "source": [
    "## make pipelines for categorical vs numeric data\n",
    "cat_pipe = make_pipeline(SimpleImputer(strategy='most_frequent', fill_value='MISSING'),\n",
    "                         OneHotEncoder(drop='first', handle_unknown='ignore', sparse=False))\n",
    "num_pipe = make_pipeline(SimpleImputer(strategy='median'), StandardScaler())\n",
    "\n"
   ]
  },
  {
   "cell_type": "code",
   "execution_count": 18,
   "id": "0b07978c",
   "metadata": {},
   "outputs": [
    {
     "data": {
      "text/plain": [
       "ColumnTransformer(transformers=[('pipeline-1',\n",
       "                                 Pipeline(steps=[('simpleimputer',\n",
       "                                                  SimpleImputer(strategy='median')),\n",
       "                                                 ('standardscaler',\n",
       "                                                  StandardScaler())]),\n",
       "                                 <sklearn.compose._column_transformer.make_column_selector object at 0x000002B0A6436100>),\n",
       "                                ('pipeline-2',\n",
       "                                 Pipeline(steps=[('simpleimputer',\n",
       "                                                  SimpleImputer(fill_value='MISSING',\n",
       "                                                                strategy='most_frequent')),\n",
       "                                                 ('onehotencoder',\n",
       "                                                  OneHotEncoder(drop='first',\n",
       "                                                                handle_unknown='ignore',\n",
       "                                                                sparse=False))]),\n",
       "                                 <sklearn.compose._column_transformer.make_column_selector object at 0x000002B0A6436A90>)],\n",
       "                  verbose_feature_names_out=False)"
      ]
     },
     "execution_count": 18,
     "metadata": {},
     "output_type": "execute_result"
    }
   ],
   "source": [
    "## make the preprocessing column transformer\n",
    "preprocessor = make_column_transformer((num_pipe, num_sel),\n",
    "                                       (cat_pipe,cat_sel),                                      \n",
    "                                       verbose_feature_names_out=False)\n",
    "preprocessor"
   ]
  },
  {
   "cell_type": "code",
   "execution_count": 19,
   "id": "81a581b2",
   "metadata": {},
   "outputs": [
    {
     "data": {
      "text/plain": [
       "array(['Item_Weight', 'Item_Visibility', 'Item_MRP',\n",
       "       'Outlet_Establishment_Year', 'Item_Fat_Content_Regular',\n",
       "       'Item_Type_Breads', 'Item_Type_Breakfast', 'Item_Type_Canned',\n",
       "       'Item_Type_Dairy', 'Item_Type_Frozen Foods',\n",
       "       'Item_Type_Fruits and Vegetables', 'Item_Type_Hard Drinks',\n",
       "       'Item_Type_Health and Hygiene', 'Item_Type_Household',\n",
       "       'Item_Type_Meat', 'Item_Type_Others', 'Item_Type_Seafood',\n",
       "       'Item_Type_Snack Foods', 'Item_Type_Soft Drinks',\n",
       "       'Item_Type_Starchy Foods', 'Outlet_Size_Medium',\n",
       "       'Outlet_Size_Small', 'Outlet_Location_Type_Tier 2',\n",
       "       'Outlet_Location_Type_Tier 3', 'Outlet_Type_Supermarket Type2'],\n",
       "      dtype=object)"
      ]
     },
     "execution_count": 19,
     "metadata": {},
     "output_type": "execute_result"
    }
   ],
   "source": [
    "## fit column transformer and run get_feature_names_out\n",
    "preprocessor.fit(X_train)\n",
    "feature_names = preprocessor.get_feature_names_out()\n",
    "feature_names"
   ]
  },
  {
   "cell_type": "code",
   "execution_count": 20,
   "id": "d10d65f2",
   "metadata": {},
   "outputs": [
    {
     "data": {
      "text/html": [
       "<div>\n",
       "<style scoped>\n",
       "    .dataframe tbody tr th:only-of-type {\n",
       "        vertical-align: middle;\n",
       "    }\n",
       "\n",
       "    .dataframe tbody tr th {\n",
       "        vertical-align: top;\n",
       "    }\n",
       "\n",
       "    .dataframe thead th {\n",
       "        text-align: right;\n",
       "    }\n",
       "</style>\n",
       "<table border=\"1\" class=\"dataframe\">\n",
       "  <thead>\n",
       "    <tr style=\"text-align: right;\">\n",
       "      <th></th>\n",
       "      <th>Item_Weight</th>\n",
       "      <th>Item_Visibility</th>\n",
       "      <th>Item_MRP</th>\n",
       "      <th>Outlet_Establishment_Year</th>\n",
       "      <th>Item_Fat_Content_Regular</th>\n",
       "      <th>Item_Type_Breads</th>\n",
       "      <th>Item_Type_Breakfast</th>\n",
       "      <th>Item_Type_Canned</th>\n",
       "      <th>Item_Type_Dairy</th>\n",
       "      <th>Item_Type_Frozen Foods</th>\n",
       "      <th>Item_Type_Fruits and Vegetables</th>\n",
       "      <th>Item_Type_Hard Drinks</th>\n",
       "      <th>Item_Type_Health and Hygiene</th>\n",
       "      <th>Item_Type_Household</th>\n",
       "      <th>Item_Type_Meat</th>\n",
       "      <th>Item_Type_Others</th>\n",
       "      <th>Item_Type_Seafood</th>\n",
       "      <th>Item_Type_Snack Foods</th>\n",
       "      <th>Item_Type_Soft Drinks</th>\n",
       "      <th>Item_Type_Starchy Foods</th>\n",
       "      <th>Outlet_Size_Medium</th>\n",
       "      <th>Outlet_Size_Small</th>\n",
       "      <th>Outlet_Location_Type_Tier 2</th>\n",
       "      <th>Outlet_Location_Type_Tier 3</th>\n",
       "      <th>Outlet_Type_Supermarket Type2</th>\n",
       "    </tr>\n",
       "  </thead>\n",
       "  <tbody>\n",
       "    <tr>\n",
       "      <th>6436</th>\n",
       "      <td>-0.937701</td>\n",
       "      <td>-0.880575</td>\n",
       "      <td>0.157173</td>\n",
       "      <td>0.652306</td>\n",
       "      <td>0.0</td>\n",
       "      <td>0.0</td>\n",
       "      <td>0.0</td>\n",
       "      <td>0.0</td>\n",
       "      <td>0.0</td>\n",
       "      <td>0.0</td>\n",
       "      <td>0.0</td>\n",
       "      <td>0.0</td>\n",
       "      <td>0.0</td>\n",
       "      <td>0.0</td>\n",
       "      <td>0.0</td>\n",
       "      <td>0.0</td>\n",
       "      <td>0.0</td>\n",
       "      <td>0.0</td>\n",
       "      <td>1.0</td>\n",
       "      <td>0.0</td>\n",
       "      <td>0.0</td>\n",
       "      <td>1.0</td>\n",
       "      <td>1.0</td>\n",
       "      <td>0.0</td>\n",
       "      <td>0.0</td>\n",
       "    </tr>\n",
       "    <tr>\n",
       "      <th>1547</th>\n",
       "      <td>0.597684</td>\n",
       "      <td>2.238408</td>\n",
       "      <td>-1.331809</td>\n",
       "      <td>1.327034</td>\n",
       "      <td>0.0</td>\n",
       "      <td>0.0</td>\n",
       "      <td>0.0</td>\n",
       "      <td>0.0</td>\n",
       "      <td>0.0</td>\n",
       "      <td>0.0</td>\n",
       "      <td>0.0</td>\n",
       "      <td>0.0</td>\n",
       "      <td>0.0</td>\n",
       "      <td>1.0</td>\n",
       "      <td>0.0</td>\n",
       "      <td>0.0</td>\n",
       "      <td>0.0</td>\n",
       "      <td>0.0</td>\n",
       "      <td>0.0</td>\n",
       "      <td>0.0</td>\n",
       "      <td>1.0</td>\n",
       "      <td>0.0</td>\n",
       "      <td>0.0</td>\n",
       "      <td>1.0</td>\n",
       "      <td>1.0</td>\n",
       "    </tr>\n",
       "    <tr>\n",
       "      <th>5432</th>\n",
       "      <td>0.822218</td>\n",
       "      <td>-1.318794</td>\n",
       "      <td>-0.599906</td>\n",
       "      <td>0.652306</td>\n",
       "      <td>1.0</td>\n",
       "      <td>0.0</td>\n",
       "      <td>0.0</td>\n",
       "      <td>1.0</td>\n",
       "      <td>0.0</td>\n",
       "      <td>0.0</td>\n",
       "      <td>0.0</td>\n",
       "      <td>0.0</td>\n",
       "      <td>0.0</td>\n",
       "      <td>0.0</td>\n",
       "      <td>0.0</td>\n",
       "      <td>0.0</td>\n",
       "      <td>0.0</td>\n",
       "      <td>0.0</td>\n",
       "      <td>0.0</td>\n",
       "      <td>0.0</td>\n",
       "      <td>0.0</td>\n",
       "      <td>1.0</td>\n",
       "      <td>1.0</td>\n",
       "      <td>0.0</td>\n",
       "      <td>0.0</td>\n",
       "    </tr>\n",
       "  </tbody>\n",
       "</table>\n",
       "</div>"
      ],
      "text/plain": [
       "      Item_Weight  Item_Visibility  Item_MRP  Outlet_Establishment_Year  \\\n",
       "6436    -0.937701        -0.880575  0.157173                   0.652306   \n",
       "1547     0.597684         2.238408 -1.331809                   1.327034   \n",
       "5432     0.822218        -1.318794 -0.599906                   0.652306   \n",
       "\n",
       "      Item_Fat_Content_Regular  Item_Type_Breads  Item_Type_Breakfast  \\\n",
       "6436                       0.0               0.0                  0.0   \n",
       "1547                       0.0               0.0                  0.0   \n",
       "5432                       1.0               0.0                  0.0   \n",
       "\n",
       "      Item_Type_Canned  Item_Type_Dairy  Item_Type_Frozen Foods  \\\n",
       "6436               0.0              0.0                     0.0   \n",
       "1547               0.0              0.0                     0.0   \n",
       "5432               1.0              0.0                     0.0   \n",
       "\n",
       "      Item_Type_Fruits and Vegetables  Item_Type_Hard Drinks  \\\n",
       "6436                              0.0                    0.0   \n",
       "1547                              0.0                    0.0   \n",
       "5432                              0.0                    0.0   \n",
       "\n",
       "      Item_Type_Health and Hygiene  Item_Type_Household  Item_Type_Meat  \\\n",
       "6436                           0.0                  0.0             0.0   \n",
       "1547                           0.0                  1.0             0.0   \n",
       "5432                           0.0                  0.0             0.0   \n",
       "\n",
       "      Item_Type_Others  Item_Type_Seafood  Item_Type_Snack Foods  \\\n",
       "6436               0.0                0.0                    0.0   \n",
       "1547               0.0                0.0                    0.0   \n",
       "5432               0.0                0.0                    0.0   \n",
       "\n",
       "      Item_Type_Soft Drinks  Item_Type_Starchy Foods  Outlet_Size_Medium  \\\n",
       "6436                    1.0                      0.0                 0.0   \n",
       "1547                    0.0                      0.0                 1.0   \n",
       "5432                    0.0                      0.0                 0.0   \n",
       "\n",
       "      Outlet_Size_Small  Outlet_Location_Type_Tier 2  \\\n",
       "6436                1.0                          1.0   \n",
       "1547                0.0                          0.0   \n",
       "5432                1.0                          1.0   \n",
       "\n",
       "      Outlet_Location_Type_Tier 3  Outlet_Type_Supermarket Type2  \n",
       "6436                          0.0                            0.0  \n",
       "1547                          1.0                            1.0  \n",
       "5432                          0.0                            0.0  "
      ]
     },
     "execution_count": 20,
     "metadata": {},
     "output_type": "execute_result"
    }
   ],
   "source": [
    "X_train_df = pd.DataFrame(preprocessor.transform(X_train),\n",
    "                           columns = feature_names, index = X_train.index)\n",
    "X_train_df.head(3)"
   ]
  },
  {
   "cell_type": "code",
   "execution_count": 21,
   "id": "a60a1980",
   "metadata": {},
   "outputs": [
    {
     "data": {
      "text/html": [
       "<div>\n",
       "<style scoped>\n",
       "    .dataframe tbody tr th:only-of-type {\n",
       "        vertical-align: middle;\n",
       "    }\n",
       "\n",
       "    .dataframe tbody tr th {\n",
       "        vertical-align: top;\n",
       "    }\n",
       "\n",
       "    .dataframe thead th {\n",
       "        text-align: right;\n",
       "    }\n",
       "</style>\n",
       "<table border=\"1\" class=\"dataframe\">\n",
       "  <thead>\n",
       "    <tr style=\"text-align: right;\">\n",
       "      <th></th>\n",
       "      <th>Item_Weight</th>\n",
       "      <th>Item_Visibility</th>\n",
       "      <th>Item_MRP</th>\n",
       "      <th>Outlet_Establishment_Year</th>\n",
       "      <th>Item_Fat_Content_Regular</th>\n",
       "      <th>Item_Type_Breads</th>\n",
       "      <th>Item_Type_Breakfast</th>\n",
       "      <th>Item_Type_Canned</th>\n",
       "      <th>Item_Type_Dairy</th>\n",
       "      <th>Item_Type_Frozen Foods</th>\n",
       "      <th>Item_Type_Fruits and Vegetables</th>\n",
       "      <th>Item_Type_Hard Drinks</th>\n",
       "      <th>Item_Type_Health and Hygiene</th>\n",
       "      <th>Item_Type_Household</th>\n",
       "      <th>Item_Type_Meat</th>\n",
       "      <th>Item_Type_Others</th>\n",
       "      <th>Item_Type_Seafood</th>\n",
       "      <th>Item_Type_Snack Foods</th>\n",
       "      <th>Item_Type_Soft Drinks</th>\n",
       "      <th>Item_Type_Starchy Foods</th>\n",
       "      <th>Outlet_Size_Medium</th>\n",
       "      <th>Outlet_Size_Small</th>\n",
       "      <th>Outlet_Location_Type_Tier 2</th>\n",
       "      <th>Outlet_Location_Type_Tier 3</th>\n",
       "      <th>Outlet_Type_Supermarket Type2</th>\n",
       "    </tr>\n",
       "  </thead>\n",
       "  <tbody>\n",
       "    <tr>\n",
       "      <th>6305</th>\n",
       "      <td>-0.086610</td>\n",
       "      <td>0.210815</td>\n",
       "      <td>-0.850904</td>\n",
       "      <td>1.327034</td>\n",
       "      <td>1.0</td>\n",
       "      <td>0.0</td>\n",
       "      <td>0.0</td>\n",
       "      <td>1.0</td>\n",
       "      <td>0.0</td>\n",
       "      <td>0.0</td>\n",
       "      <td>0.0</td>\n",
       "      <td>0.0</td>\n",
       "      <td>0.0</td>\n",
       "      <td>0.0</td>\n",
       "      <td>0.0</td>\n",
       "      <td>0.0</td>\n",
       "      <td>0.0</td>\n",
       "      <td>0.0</td>\n",
       "      <td>0.0</td>\n",
       "      <td>0.0</td>\n",
       "      <td>1.0</td>\n",
       "      <td>0.0</td>\n",
       "      <td>0.0</td>\n",
       "      <td>1.0</td>\n",
       "      <td>1.0</td>\n",
       "    </tr>\n",
       "    <tr>\n",
       "      <th>2103</th>\n",
       "      <td>1.570665</td>\n",
       "      <td>-0.976131</td>\n",
       "      <td>1.587135</td>\n",
       "      <td>-0.292313</td>\n",
       "      <td>1.0</td>\n",
       "      <td>0.0</td>\n",
       "      <td>0.0</td>\n",
       "      <td>0.0</td>\n",
       "      <td>0.0</td>\n",
       "      <td>0.0</td>\n",
       "      <td>0.0</td>\n",
       "      <td>0.0</td>\n",
       "      <td>0.0</td>\n",
       "      <td>0.0</td>\n",
       "      <td>0.0</td>\n",
       "      <td>0.0</td>\n",
       "      <td>0.0</td>\n",
       "      <td>0.0</td>\n",
       "      <td>0.0</td>\n",
       "      <td>0.0</td>\n",
       "      <td>0.0</td>\n",
       "      <td>1.0</td>\n",
       "      <td>0.0</td>\n",
       "      <td>0.0</td>\n",
       "      <td>0.0</td>\n",
       "    </tr>\n",
       "    <tr>\n",
       "      <th>105</th>\n",
       "      <td>0.897063</td>\n",
       "      <td>-0.422580</td>\n",
       "      <td>-0.007298</td>\n",
       "      <td>-1.641769</td>\n",
       "      <td>1.0</td>\n",
       "      <td>0.0</td>\n",
       "      <td>0.0</td>\n",
       "      <td>1.0</td>\n",
       "      <td>0.0</td>\n",
       "      <td>0.0</td>\n",
       "      <td>0.0</td>\n",
       "      <td>0.0</td>\n",
       "      <td>0.0</td>\n",
       "      <td>0.0</td>\n",
       "      <td>0.0</td>\n",
       "      <td>0.0</td>\n",
       "      <td>0.0</td>\n",
       "      <td>0.0</td>\n",
       "      <td>0.0</td>\n",
       "      <td>0.0</td>\n",
       "      <td>0.0</td>\n",
       "      <td>0.0</td>\n",
       "      <td>0.0</td>\n",
       "      <td>1.0</td>\n",
       "      <td>0.0</td>\n",
       "    </tr>\n",
       "  </tbody>\n",
       "</table>\n",
       "</div>"
      ],
      "text/plain": [
       "      Item_Weight  Item_Visibility  Item_MRP  Outlet_Establishment_Year  \\\n",
       "6305    -0.086610         0.210815 -0.850904                   1.327034   \n",
       "2103     1.570665        -0.976131  1.587135                  -0.292313   \n",
       "105      0.897063        -0.422580 -0.007298                  -1.641769   \n",
       "\n",
       "      Item_Fat_Content_Regular  Item_Type_Breads  Item_Type_Breakfast  \\\n",
       "6305                       1.0               0.0                  0.0   \n",
       "2103                       1.0               0.0                  0.0   \n",
       "105                        1.0               0.0                  0.0   \n",
       "\n",
       "      Item_Type_Canned  Item_Type_Dairy  Item_Type_Frozen Foods  \\\n",
       "6305               1.0              0.0                     0.0   \n",
       "2103               0.0              0.0                     0.0   \n",
       "105                1.0              0.0                     0.0   \n",
       "\n",
       "      Item_Type_Fruits and Vegetables  Item_Type_Hard Drinks  \\\n",
       "6305                              0.0                    0.0   \n",
       "2103                              0.0                    0.0   \n",
       "105                               0.0                    0.0   \n",
       "\n",
       "      Item_Type_Health and Hygiene  Item_Type_Household  Item_Type_Meat  \\\n",
       "6305                           0.0                  0.0             0.0   \n",
       "2103                           0.0                  0.0             0.0   \n",
       "105                            0.0                  0.0             0.0   \n",
       "\n",
       "      Item_Type_Others  Item_Type_Seafood  Item_Type_Snack Foods  \\\n",
       "6305               0.0                0.0                    0.0   \n",
       "2103               0.0                0.0                    0.0   \n",
       "105                0.0                0.0                    0.0   \n",
       "\n",
       "      Item_Type_Soft Drinks  Item_Type_Starchy Foods  Outlet_Size_Medium  \\\n",
       "6305                    0.0                      0.0                 1.0   \n",
       "2103                    0.0                      0.0                 0.0   \n",
       "105                     0.0                      0.0                 0.0   \n",
       "\n",
       "      Outlet_Size_Small  Outlet_Location_Type_Tier 2  \\\n",
       "6305                0.0                          0.0   \n",
       "2103                1.0                          0.0   \n",
       "105                 0.0                          0.0   \n",
       "\n",
       "      Outlet_Location_Type_Tier 3  Outlet_Type_Supermarket Type2  \n",
       "6305                          1.0                            1.0  \n",
       "2103                          0.0                            0.0  \n",
       "105                           1.0                            0.0  "
      ]
     },
     "execution_count": 21,
     "metadata": {},
     "output_type": "execute_result"
    }
   ],
   "source": [
    "X_test_df = pd.DataFrame(preprocessor.transform(X_test),\n",
    "                           columns = feature_names, index = X_test.index)\n",
    "X_test_df.head(3)"
   ]
  },
  {
   "cell_type": "code",
   "execution_count": 22,
   "id": "15fa47a0",
   "metadata": {},
   "outputs": [
    {
     "data": {
      "text/plain": [
       "6305    1133.8574\n",
       "2103    5768.4912\n",
       "105     2247.7408\n",
       "Name: Item_Outlet_Sales, dtype: float64"
      ]
     },
     "execution_count": 22,
     "metadata": {},
     "output_type": "execute_result"
    }
   ],
   "source": [
    "## confirm the first 3 rows index in y_test matches X_test_df\n",
    "y_test.head(3)"
   ]
  },
  {
   "cell_type": "code",
   "execution_count": 23,
   "id": "1ad95232",
   "metadata": {},
   "outputs": [
    {
     "name": "stdout",
     "output_type": "stream",
     "text": [
      "Training Data:\tR^2= 0.48\tRMSE= 1087.39\n",
      "Test Data:\tR^2= 0.45\tRMSE= 1107.24\n"
     ]
    }
   ],
   "source": [
    "## fitting a linear regression model\n",
    "lin_reg = LinearRegression()\n",
    "lin_reg.fit(X_train_df, y_train)\n",
    "evaluate_regression(lin_reg, X_train_df, y_train, X_test_df,y_test)\n"
   ]
  },
  {
   "cell_type": "code",
   "execution_count": 24,
   "id": "bb4c1e61",
   "metadata": {},
   "outputs": [
    {
     "data": {
      "text/plain": [
       "Item_Weight                         -20.924450\n",
       "Item_Visibility                      -5.933081\n",
       "Item_MRP                           1031.125315\n",
       "Outlet_Establishment_Year           -44.836197\n",
       "Item_Fat_Content_Regular            -24.660029\n",
       "Item_Type_Breads                     61.342520\n",
       "Item_Type_Breakfast                 121.483570\n",
       "Item_Type_Canned                    -59.659978\n",
       "Item_Type_Dairy                     -71.785348\n",
       "Item_Type_Frozen Foods              -50.641434\n",
       "Item_Type_Fruits and Vegetables     -56.863395\n",
       "Item_Type_Hard Drinks               -64.812830\n",
       "Item_Type_Health and Hygiene        -94.738596\n",
       "Item_Type_Household                -116.690466\n",
       "Item_Type_Meat                     -120.936659\n",
       "Item_Type_Others                    -71.696221\n",
       "Item_Type_Seafood                   473.254442\n",
       "Item_Type_Snack Foods               -32.207499\n",
       "Item_Type_Soft Drinks               -75.466474\n",
       "Item_Type_Starchy Foods              20.997483\n",
       "Outlet_Size_Medium                   47.409228\n",
       "Outlet_Size_Small                   -86.478702\n",
       "Outlet_Location_Type_Tier 2         222.900240\n",
       "Outlet_Location_Type_Tier 3        -120.598455\n",
       "Outlet_Type_Supermarket Type2      -159.667930\n",
       "intercept                          2383.421791\n",
       "dtype: float64"
      ]
     },
     "execution_count": 24,
     "metadata": {},
     "output_type": "execute_result"
    }
   ],
   "source": [
    "## Saving the coefficients\n",
    "coeffs = pd.Series(lin_reg.coef_, index= feature_names)\n",
    "coeffs['intercept'] = lin_reg.intercept_\n",
    "coeffs"
   ]
  },
  {
   "cell_type": "code",
   "execution_count": 25,
   "id": "0cfe7622",
   "metadata": {},
   "outputs": [
    {
     "data": {
      "text/plain": [
       "array([ -20.92444964,   -5.93308081, 1031.12531458,  -44.83619653,\n",
       "        -24.66002872,   61.34251953,  121.48356975,  -59.65997804,\n",
       "        -71.78534805,  -50.64143362,  -56.86339462,  -64.81283034,\n",
       "        -94.73859591, -116.69046615, -120.93665851,  -71.69622136,\n",
       "        473.25444199,  -32.20749945,  -75.46647426,   20.99748306,\n",
       "         47.40922811,  -86.47870249,  222.90024005, -120.59845526,\n",
       "       -159.66792964])"
      ]
     },
     "execution_count": 25,
     "metadata": {},
     "output_type": "execute_result"
    }
   ],
   "source": [
    "lin_reg.coef_"
   ]
  },
  {
   "cell_type": "code",
   "execution_count": 26,
   "id": "aa977be5",
   "metadata": {},
   "outputs": [
    {
     "name": "stdout",
     "output_type": "stream",
     "text": [
      "25\n"
     ]
    },
    {
     "data": {
      "text/plain": [
       "25"
      ]
     },
     "execution_count": 26,
     "metadata": {},
     "output_type": "execute_result"
    }
   ],
   "source": [
    "## Checking the number of coeffs matches the # of feature names\n",
    "print(len(lin_reg.coef_))\n",
    "len(feature_names)"
   ]
  },
  {
   "cell_type": "code",
   "execution_count": 27,
   "id": "8c2a2397",
   "metadata": {},
   "outputs": [
    {
     "data": {
      "text/plain": [
       "Item_Weight                         -20.924450\n",
       "Item_Visibility                      -5.933081\n",
       "Item_MRP                           1031.125315\n",
       "Outlet_Establishment_Year           -44.836197\n",
       "Item_Fat_Content_Regular            -24.660029\n",
       "Item_Type_Breads                     61.342520\n",
       "Item_Type_Breakfast                 121.483570\n",
       "Item_Type_Canned                    -59.659978\n",
       "Item_Type_Dairy                     -71.785348\n",
       "Item_Type_Frozen Foods              -50.641434\n",
       "Item_Type_Fruits and Vegetables     -56.863395\n",
       "Item_Type_Hard Drinks               -64.812830\n",
       "Item_Type_Health and Hygiene        -94.738596\n",
       "Item_Type_Household                -116.690466\n",
       "Item_Type_Meat                     -120.936659\n",
       "Item_Type_Others                    -71.696221\n",
       "Item_Type_Seafood                   473.254442\n",
       "Item_Type_Snack Foods               -32.207499\n",
       "Item_Type_Soft Drinks               -75.466474\n",
       "Item_Type_Starchy Foods              20.997483\n",
       "Outlet_Size_Medium                   47.409228\n",
       "Outlet_Size_Small                   -86.478702\n",
       "Outlet_Location_Type_Tier 2         222.900240\n",
       "Outlet_Location_Type_Tier 3        -120.598455\n",
       "Outlet_Type_Supermarket Type2      -159.667930\n",
       "Name: Feature Importance, dtype: float64"
      ]
     },
     "execution_count": 27,
     "metadata": {},
     "output_type": "execute_result"
    }
   ],
   "source": [
    "## Saving the coefficients\n",
    "coeffs = pd.Series(lin_reg.coef_, index= feature_names, name='Feature Importance')\n",
    "coeffs"
   ]
  },
  {
   "cell_type": "code",
   "execution_count": 28,
   "id": "d238bf38",
   "metadata": {},
   "outputs": [
    {
     "data": {
      "text/plain": [
       "Item_Weight                         -20.924450\n",
       "Item_Visibility                      -5.933081\n",
       "Item_MRP                           1031.125315\n",
       "Outlet_Establishment_Year           -44.836197\n",
       "Item_Fat_Content_Regular            -24.660029\n",
       "Item_Type_Breads                     61.342520\n",
       "Item_Type_Breakfast                 121.483570\n",
       "Item_Type_Canned                    -59.659978\n",
       "Item_Type_Dairy                     -71.785348\n",
       "Item_Type_Frozen Foods              -50.641434\n",
       "Item_Type_Fruits and Vegetables     -56.863395\n",
       "Item_Type_Hard Drinks               -64.812830\n",
       "Item_Type_Health and Hygiene        -94.738596\n",
       "Item_Type_Household                -116.690466\n",
       "Item_Type_Meat                     -120.936659\n",
       "Item_Type_Others                    -71.696221\n",
       "Item_Type_Seafood                   473.254442\n",
       "Item_Type_Snack Foods               -32.207499\n",
       "Item_Type_Soft Drinks               -75.466474\n",
       "Item_Type_Starchy Foods              20.997483\n",
       "Outlet_Size_Medium                   47.409228\n",
       "Outlet_Size_Small                   -86.478702\n",
       "Outlet_Location_Type_Tier 2         222.900240\n",
       "Outlet_Location_Type_Tier 3        -120.598455\n",
       "Outlet_Type_Supermarket Type2      -159.667930\n",
       "intercept                          2383.421791\n",
       "Name: Feature Importance, dtype: float64"
      ]
     },
     "execution_count": 28,
     "metadata": {},
     "output_type": "execute_result"
    }
   ],
   "source": [
    "# using .loc to add the intercept to the series\n",
    "coeffs.loc['intercept'] = lin_reg.intercept_\n",
    "coeffs"
   ]
  },
  {
   "cell_type": "code",
   "execution_count": 29,
   "id": "a0707e00",
   "metadata": {},
   "outputs": [
    {
     "data": {
      "text/plain": [
       "3083.336845059055"
      ]
     },
     "execution_count": 29,
     "metadata": {},
     "output_type": "execute_result"
    }
   ],
   "source": [
    "coeffs.sum()"
   ]
  },
  {
   "cell_type": "code",
   "execution_count": 30,
   "id": "e13df0ac",
   "metadata": {},
   "outputs": [
    {
     "data": {
      "text/plain": [
       "Item_Weight                         -20.92\n",
       "Item_Visibility                      -5.93\n",
       "Item_MRP                          1,031.13\n",
       "Outlet_Establishment_Year           -44.84\n",
       "Item_Fat_Content_Regular            -24.66\n",
       "Item_Type_Breads                     61.34\n",
       "Item_Type_Breakfast                 121.48\n",
       "Item_Type_Canned                    -59.66\n",
       "Item_Type_Dairy                     -71.79\n",
       "Item_Type_Frozen Foods              -50.64\n",
       "Item_Type_Fruits and Vegetables     -56.86\n",
       "Item_Type_Hard Drinks               -64.81\n",
       "Item_Type_Health and Hygiene        -94.74\n",
       "Item_Type_Household                -116.69\n",
       "Item_Type_Meat                     -120.94\n",
       "Item_Type_Others                    -71.70\n",
       "Item_Type_Seafood                   473.25\n",
       "Item_Type_Snack Foods               -32.21\n",
       "Item_Type_Soft Drinks               -75.47\n",
       "Item_Type_Starchy Foods              21.00\n",
       "Outlet_Size_Medium                   47.41\n",
       "Outlet_Size_Small                   -86.48\n",
       "Outlet_Location_Type_Tier 2         222.90\n",
       "Outlet_Location_Type_Tier 3        -120.60\n",
       "Outlet_Type_Supermarket Type2      -159.67\n",
       "intercept                         2,383.42\n",
       "Name: Feature Importance, dtype: float64"
      ]
     },
     "execution_count": 30,
     "metadata": {},
     "output_type": "execute_result"
    }
   ],
   "source": [
    "pd.set_option('display.float_format', lambda x: f\"{x:,.2f}\")\n",
    "coeffs"
   ]
  },
  {
   "cell_type": "code",
   "execution_count": 31,
   "id": "c86d22fd",
   "metadata": {},
   "outputs": [
    {
     "data": {
      "text/plain": [
       "Item_Identifier         1523\n",
       "Item_Fat_Content           2\n",
       "Item_Type                 16\n",
       "Outlet_Identifier          5\n",
       "Outlet_Size                3\n",
       "Outlet_Location_Type       3\n",
       "Outlet_Type                2\n",
       "dtype: int64"
      ]
     },
     "execution_count": 31,
     "metadata": {},
     "output_type": "execute_result"
    }
   ],
   "source": [
    "#Checking options\n",
    "df.select_dtypes('object').nunique()"
   ]
  },
  {
   "cell_type": "code",
   "execution_count": 32,
   "id": "cd14cf4f",
   "metadata": {},
   "outputs": [
    {
     "data": {
      "text/html": [
       "<div>\n",
       "<style scoped>\n",
       "    .dataframe tbody tr th:only-of-type {\n",
       "        vertical-align: middle;\n",
       "    }\n",
       "\n",
       "    .dataframe tbody tr th {\n",
       "        vertical-align: top;\n",
       "    }\n",
       "\n",
       "    .dataframe thead th {\n",
       "        text-align: right;\n",
       "    }\n",
       "</style>\n",
       "<table border=\"1\" class=\"dataframe\">\n",
       "  <thead>\n",
       "    <tr style=\"text-align: right;\">\n",
       "      <th></th>\n",
       "      <th>Item_Weight</th>\n",
       "      <th>Item_Fat_Content</th>\n",
       "      <th>Item_Visibility</th>\n",
       "      <th>Item_Type</th>\n",
       "      <th>Item_MRP</th>\n",
       "      <th>Outlet_Establishment_Year</th>\n",
       "      <th>Outlet_Size</th>\n",
       "      <th>Outlet_Location_Type</th>\n",
       "      <th>Outlet_Type</th>\n",
       "    </tr>\n",
       "  </thead>\n",
       "  <tbody>\n",
       "    <tr>\n",
       "      <th>6436</th>\n",
       "      <td>8.52</td>\n",
       "      <td>Low Fat</td>\n",
       "      <td>0.03</td>\n",
       "      <td>Soft Drinks</td>\n",
       "      <td>151.57</td>\n",
       "      <td>2004</td>\n",
       "      <td>Small</td>\n",
       "      <td>Tier 2</td>\n",
       "      <td>Supermarket Type1</td>\n",
       "    </tr>\n",
       "    <tr>\n",
       "      <th>1547</th>\n",
       "      <td>15.70</td>\n",
       "      <td>Low Fat</td>\n",
       "      <td>0.16</td>\n",
       "      <td>Household</td>\n",
       "      <td>57.56</td>\n",
       "      <td>2009</td>\n",
       "      <td>Medium</td>\n",
       "      <td>Tier 3</td>\n",
       "      <td>Supermarket Type2</td>\n",
       "    </tr>\n",
       "    <tr>\n",
       "      <th>5432</th>\n",
       "      <td>16.75</td>\n",
       "      <td>Regular</td>\n",
       "      <td>0.01</td>\n",
       "      <td>Canned</td>\n",
       "      <td>103.77</td>\n",
       "      <td>2004</td>\n",
       "      <td>Small</td>\n",
       "      <td>Tier 2</td>\n",
       "      <td>Supermarket Type1</td>\n",
       "    </tr>\n",
       "    <tr>\n",
       "      <th>4512</th>\n",
       "      <td>19.35</td>\n",
       "      <td>Low Fat</td>\n",
       "      <td>0.03</td>\n",
       "      <td>Health and Hygiene</td>\n",
       "      <td>65.62</td>\n",
       "      <td>2009</td>\n",
       "      <td>Medium</td>\n",
       "      <td>Tier 3</td>\n",
       "      <td>Supermarket Type2</td>\n",
       "    </tr>\n",
       "    <tr>\n",
       "      <th>3075</th>\n",
       "      <td>20.35</td>\n",
       "      <td>Low Fat</td>\n",
       "      <td>0.06</td>\n",
       "      <td>Baking Goods</td>\n",
       "      <td>233.36</td>\n",
       "      <td>1997</td>\n",
       "      <td>Small</td>\n",
       "      <td>Tier 1</td>\n",
       "      <td>Supermarket Type1</td>\n",
       "    </tr>\n",
       "  </tbody>\n",
       "</table>\n",
       "</div>"
      ],
      "text/plain": [
       "      Item_Weight Item_Fat_Content  Item_Visibility           Item_Type  \\\n",
       "6436         8.52          Low Fat             0.03         Soft Drinks   \n",
       "1547        15.70          Low Fat             0.16           Household   \n",
       "5432        16.75          Regular             0.01              Canned   \n",
       "4512        19.35          Low Fat             0.03  Health and Hygiene   \n",
       "3075        20.35          Low Fat             0.06        Baking Goods   \n",
       "\n",
       "      Item_MRP  Outlet_Establishment_Year Outlet_Size Outlet_Location_Type  \\\n",
       "6436    151.57                       2004       Small               Tier 2   \n",
       "1547     57.56                       2009      Medium               Tier 3   \n",
       "5432    103.77                       2004       Small               Tier 2   \n",
       "4512     65.62                       2009      Medium               Tier 3   \n",
       "3075    233.36                       1997       Small               Tier 1   \n",
       "\n",
       "            Outlet_Type  \n",
       "6436  Supermarket Type1  \n",
       "1547  Supermarket Type2  \n",
       "5432  Supermarket Type1  \n",
       "4512  Supermarket Type2  \n",
       "3075  Supermarket Type1  "
      ]
     },
     "execution_count": 32,
     "metadata": {},
     "output_type": "execute_result"
    }
   ],
   "source": [
    "## Make x and y variables\n",
    "X = df.drop(columns = [\"Item_Outlet_Sales\", \"Outlet_Identifier\", \"Item_Identifier\"]).copy()\n",
    "\n",
    "y = df[\"Item_Outlet_Sales\"].copy()\n",
    "## train-test-split with random state for reproducibility\n",
    "X_train, X_test, y_train, y_test = train_test_split(X,y, random_state=SEED)\n",
    "X_train.head()"
   ]
  },
  {
   "cell_type": "code",
   "execution_count": 33,
   "id": "b727042b",
   "metadata": {},
   "outputs": [
    {
     "data": {
      "text/html": [
       "<div>\n",
       "<style scoped>\n",
       "    .dataframe tbody tr th:only-of-type {\n",
       "        vertical-align: middle;\n",
       "    }\n",
       "\n",
       "    .dataframe tbody tr th {\n",
       "        vertical-align: top;\n",
       "    }\n",
       "\n",
       "    .dataframe thead th {\n",
       "        text-align: right;\n",
       "    }\n",
       "</style>\n",
       "<table border=\"1\" class=\"dataframe\">\n",
       "  <thead>\n",
       "    <tr style=\"text-align: right;\">\n",
       "      <th></th>\n",
       "      <th>Item_Weight</th>\n",
       "      <th>Item_Visibility</th>\n",
       "      <th>Item_MRP</th>\n",
       "      <th>Outlet_Establishment_Year</th>\n",
       "      <th>Item_Fat_Content_Regular</th>\n",
       "      <th>Item_Type_Baking Goods</th>\n",
       "      <th>Item_Type_Breads</th>\n",
       "      <th>Item_Type_Breakfast</th>\n",
       "      <th>Item_Type_Canned</th>\n",
       "      <th>Item_Type_Dairy</th>\n",
       "      <th>Item_Type_Frozen Foods</th>\n",
       "      <th>Item_Type_Fruits and Vegetables</th>\n",
       "      <th>Item_Type_Hard Drinks</th>\n",
       "      <th>Item_Type_Health and Hygiene</th>\n",
       "      <th>Item_Type_Household</th>\n",
       "      <th>Item_Type_Meat</th>\n",
       "      <th>Item_Type_Others</th>\n",
       "      <th>Item_Type_Seafood</th>\n",
       "      <th>Item_Type_Snack Foods</th>\n",
       "      <th>Item_Type_Soft Drinks</th>\n",
       "      <th>Item_Type_Starchy Foods</th>\n",
       "      <th>Outlet_Size_High</th>\n",
       "      <th>Outlet_Size_Medium</th>\n",
       "      <th>Outlet_Size_Small</th>\n",
       "      <th>Outlet_Location_Type_Tier 1</th>\n",
       "      <th>Outlet_Location_Type_Tier 2</th>\n",
       "      <th>Outlet_Location_Type_Tier 3</th>\n",
       "      <th>Outlet_Type_Supermarket Type2</th>\n",
       "    </tr>\n",
       "  </thead>\n",
       "  <tbody>\n",
       "    <tr>\n",
       "      <th>6305</th>\n",
       "      <td>12.50</td>\n",
       "      <td>0.07</td>\n",
       "      <td>87.92</td>\n",
       "      <td>2,009.00</td>\n",
       "      <td>1.00</td>\n",
       "      <td>0.00</td>\n",
       "      <td>0.00</td>\n",
       "      <td>0.00</td>\n",
       "      <td>1.00</td>\n",
       "      <td>0.00</td>\n",
       "      <td>0.00</td>\n",
       "      <td>0.00</td>\n",
       "      <td>0.00</td>\n",
       "      <td>0.00</td>\n",
       "      <td>0.00</td>\n",
       "      <td>0.00</td>\n",
       "      <td>0.00</td>\n",
       "      <td>0.00</td>\n",
       "      <td>0.00</td>\n",
       "      <td>0.00</td>\n",
       "      <td>0.00</td>\n",
       "      <td>0.00</td>\n",
       "      <td>1.00</td>\n",
       "      <td>0.00</td>\n",
       "      <td>0.00</td>\n",
       "      <td>0.00</td>\n",
       "      <td>1.00</td>\n",
       "      <td>1.00</td>\n",
       "    </tr>\n",
       "    <tr>\n",
       "      <th>2103</th>\n",
       "      <td>20.25</td>\n",
       "      <td>0.02</td>\n",
       "      <td>241.85</td>\n",
       "      <td>1,997.00</td>\n",
       "      <td>1.00</td>\n",
       "      <td>1.00</td>\n",
       "      <td>0.00</td>\n",
       "      <td>0.00</td>\n",
       "      <td>0.00</td>\n",
       "      <td>0.00</td>\n",
       "      <td>0.00</td>\n",
       "      <td>0.00</td>\n",
       "      <td>0.00</td>\n",
       "      <td>0.00</td>\n",
       "      <td>0.00</td>\n",
       "      <td>0.00</td>\n",
       "      <td>0.00</td>\n",
       "      <td>0.00</td>\n",
       "      <td>0.00</td>\n",
       "      <td>0.00</td>\n",
       "      <td>0.00</td>\n",
       "      <td>0.00</td>\n",
       "      <td>0.00</td>\n",
       "      <td>1.00</td>\n",
       "      <td>1.00</td>\n",
       "      <td>0.00</td>\n",
       "      <td>0.00</td>\n",
       "      <td>0.00</td>\n",
       "    </tr>\n",
       "    <tr>\n",
       "      <th>105</th>\n",
       "      <td>17.10</td>\n",
       "      <td>0.05</td>\n",
       "      <td>141.18</td>\n",
       "      <td>1,987.00</td>\n",
       "      <td>1.00</td>\n",
       "      <td>0.00</td>\n",
       "      <td>0.00</td>\n",
       "      <td>0.00</td>\n",
       "      <td>1.00</td>\n",
       "      <td>0.00</td>\n",
       "      <td>0.00</td>\n",
       "      <td>0.00</td>\n",
       "      <td>0.00</td>\n",
       "      <td>0.00</td>\n",
       "      <td>0.00</td>\n",
       "      <td>0.00</td>\n",
       "      <td>0.00</td>\n",
       "      <td>0.00</td>\n",
       "      <td>0.00</td>\n",
       "      <td>0.00</td>\n",
       "      <td>0.00</td>\n",
       "      <td>1.00</td>\n",
       "      <td>0.00</td>\n",
       "      <td>0.00</td>\n",
       "      <td>0.00</td>\n",
       "      <td>0.00</td>\n",
       "      <td>1.00</td>\n",
       "      <td>0.00</td>\n",
       "    </tr>\n",
       "  </tbody>\n",
       "</table>\n",
       "</div>"
      ],
      "text/plain": [
       "      Item_Weight  Item_Visibility  Item_MRP  Outlet_Establishment_Year  \\\n",
       "6305        12.50             0.07     87.92                   2,009.00   \n",
       "2103        20.25             0.02    241.85                   1,997.00   \n",
       "105         17.10             0.05    141.18                   1,987.00   \n",
       "\n",
       "      Item_Fat_Content_Regular  Item_Type_Baking Goods  Item_Type_Breads  \\\n",
       "6305                      1.00                    0.00              0.00   \n",
       "2103                      1.00                    1.00              0.00   \n",
       "105                       1.00                    0.00              0.00   \n",
       "\n",
       "      Item_Type_Breakfast  Item_Type_Canned  Item_Type_Dairy  \\\n",
       "6305                 0.00              1.00             0.00   \n",
       "2103                 0.00              0.00             0.00   \n",
       "105                  0.00              1.00             0.00   \n",
       "\n",
       "      Item_Type_Frozen Foods  Item_Type_Fruits and Vegetables  \\\n",
       "6305                    0.00                             0.00   \n",
       "2103                    0.00                             0.00   \n",
       "105                     0.00                             0.00   \n",
       "\n",
       "      Item_Type_Hard Drinks  Item_Type_Health and Hygiene  \\\n",
       "6305                   0.00                          0.00   \n",
       "2103                   0.00                          0.00   \n",
       "105                    0.00                          0.00   \n",
       "\n",
       "      Item_Type_Household  Item_Type_Meat  Item_Type_Others  \\\n",
       "6305                 0.00            0.00              0.00   \n",
       "2103                 0.00            0.00              0.00   \n",
       "105                  0.00            0.00              0.00   \n",
       "\n",
       "      Item_Type_Seafood  Item_Type_Snack Foods  Item_Type_Soft Drinks  \\\n",
       "6305               0.00                   0.00                   0.00   \n",
       "2103               0.00                   0.00                   0.00   \n",
       "105                0.00                   0.00                   0.00   \n",
       "\n",
       "      Item_Type_Starchy Foods  Outlet_Size_High  Outlet_Size_Medium  \\\n",
       "6305                     0.00              0.00                1.00   \n",
       "2103                     0.00              0.00                0.00   \n",
       "105                      0.00              1.00                0.00   \n",
       "\n",
       "      Outlet_Size_Small  Outlet_Location_Type_Tier 1  \\\n",
       "6305               0.00                         0.00   \n",
       "2103               1.00                         1.00   \n",
       "105                0.00                         0.00   \n",
       "\n",
       "      Outlet_Location_Type_Tier 2  Outlet_Location_Type_Tier 3  \\\n",
       "6305                         0.00                         1.00   \n",
       "2103                         0.00                         0.00   \n",
       "105                          0.00                         1.00   \n",
       "\n",
       "      Outlet_Type_Supermarket Type2  \n",
       "6305                           1.00  \n",
       "2103                           0.00  \n",
       "105                            0.00  "
      ]
     },
     "execution_count": 33,
     "metadata": {},
     "output_type": "execute_result"
    }
   ],
   "source": [
    "## make pipelines for categorical vs numeric data\n",
    "cat_pipe = make_pipeline(SimpleImputer(strategy='constant',\n",
    "                                       fill_value='MISSING'),\n",
    "                         OneHotEncoder(drop='if_binary', sparse=False))\n",
    "num_pipe = make_pipeline(SimpleImputer(strategy='median'))\n",
    "## make the preprocessing column transformer\n",
    "preprocessor = make_column_transformer((num_pipe, num_sel),\n",
    "                                       (cat_pipe,cat_sel),\n",
    "                                      verbose_feature_names_out=False)\n",
    "## fit column transformer and run get_feature_names_out\n",
    "preprocessor.fit(X_train)\n",
    "feature_names = preprocessor.get_feature_names_out()\n",
    "X_train_df = pd.DataFrame(preprocessor.transform(X_train),\n",
    "                           columns = feature_names, index = X_train.index)\n",
    "X_test_df = pd.DataFrame(preprocessor.transform(X_test),\n",
    "                           columns = feature_names, index = X_test.index)\n",
    "X_test_df.head(3)\n",
    "\n"
   ]
  },
  {
   "cell_type": "code",
   "execution_count": 34,
   "id": "c54a2adc",
   "metadata": {},
   "outputs": [
    {
     "name": "stdout",
     "output_type": "stream",
     "text": [
      "Training Data:\tR^2= 0.48\tRMSE= 1087.39\n",
      "Test Data:\tR^2= 0.45\tRMSE= 1107.24\n"
     ]
    }
   ],
   "source": [
    "## fitting a linear regression model\n",
    "lin_reg = LinearRegression()\n",
    "lin_reg.fit(X_train_df, y_train)\n",
    "evaluate_regression(lin_reg, X_train_df, y_train, X_test_df,y_test)"
   ]
  },
  {
   "cell_type": "code",
   "execution_count": 35,
   "id": "4e9f429c",
   "metadata": {},
   "outputs": [],
   "source": [
    "## Saving the coefficients\n",
    "coeffs = pd.Series(lin_reg.coef_, index= feature_names)"
   ]
  },
  {
   "cell_type": "code",
   "execution_count": 36,
   "id": "c24c0ffb",
   "metadata": {},
   "outputs": [
    {
     "data": {
      "text/plain": [
       "Item_Type_Seafood                 28.00\n",
       "Outlet_Location_Type_Tier 2       27.00\n",
       "Outlet_Location_Type_Tier 3       26.00\n",
       "Outlet_Type_Supermarket Type2     25.00\n",
       "Item_Visibility                   24.00\n",
       "Item_Type_Breakfast               23.00\n",
       "Item_Type_Meat                    22.00\n",
       "Item_Type_Household               21.00\n",
       "Item_Type_Health and Hygiene      20.00\n",
       "Item_Type_Breads                  19.00\n",
       "Outlet_Size_Medium                18.00\n",
       "Outlet_Size_Small                 17.00\n",
       "Item_Type_Soft Drinks             16.00\n",
       "Item_Type_Dairy                   15.00\n",
       "Item_Type_Others                  14.00\n",
       "Item_Type_Hard Drinks             13.00\n",
       "Item_Type_Canned                  12.00\n",
       "Item_Type_Fruits and Vegetables   11.00\n",
       "Item_Type_Frozen Foods            10.00\n",
       "Outlet_Location_Type_Tier 1        9.00\n",
       "Item_Type_Starchy Foods            8.00\n",
       "Item_Fat_Content_Regular           7.00\n",
       "Item_Type_Snack Foods              6.00\n",
       "Item_MRP                           5.00\n",
       "Item_Type_Baking Goods             4.00\n",
       "Outlet_Establishment_Year          3.00\n",
       "Item_Weight                        2.00\n",
       "Outlet_Size_High                   1.00\n",
       "dtype: float64"
      ]
     },
     "execution_count": 36,
     "metadata": {},
     "output_type": "execute_result"
    }
   ],
   "source": [
    "coeff_rank = coeffs.abs().rank().sort_values(ascending=False)\n",
    "coeff_rank"
   ]
  },
  {
   "cell_type": "code",
   "execution_count": 52,
   "id": "2b032a95",
   "metadata": {},
   "outputs": [
    {
     "data": {
      "text/plain": [
       "Item_Type_Seafood             28.00\n",
       "Outlet_Location_Type_Tier 2   27.00\n",
       "Outlet_Location_Type_Tier 3   26.00\n",
       "dtype: float64"
      ]
     },
     "execution_count": 52,
     "metadata": {},
     "output_type": "execute_result"
    }
   ],
   "source": [
    "top_n_features = coeff_rank.head(3)\n",
    "top_n_features"
   ]
  },
  {
   "cell_type": "markdown",
   "id": "19b73b12",
   "metadata": {},
   "source": [
    "- Item_type_seafood is the most important to the target but the other two are also almost equally important."
   ]
  },
  {
   "cell_type": "code",
   "execution_count": 38,
   "id": "b5c28278",
   "metadata": {},
   "outputs": [
    {
     "data": {
      "text/plain": [
       "Item_Type_Seafood              481.91\n",
       "Outlet_Location_Type_Tier 2    193.33\n",
       "Outlet_Location_Type_Tier 3   -153.70\n",
       "dtype: float64"
      ]
     },
     "execution_count": 38,
     "metadata": {},
     "output_type": "execute_result"
    }
   ],
   "source": [
    "## Slicing out the top_n_features names to visualize\n",
    "plot_vals = coeffs.loc[top_n_features.index]\n",
    "plot_vals.head(3)"
   ]
  },
  {
   "cell_type": "code",
   "execution_count": 39,
   "id": "9d5e5320",
   "metadata": {},
   "outputs": [
    {
     "name": "stdout",
     "output_type": "stream",
     "text": [
      "Training Data:\tR^2= 0.92\tRMSE= 438.11\n",
      "Test Data:\tR^2= 0.39\tRMSE= 1163.44\n"
     ]
    }
   ],
   "source": [
    "reg = RandomForestRegressor(random_state=SEED)\n",
    "reg.fit(X_train_df,y_train)\n",
    "evaluate_regression(reg, X_train_df, y_train, X_test_df, y_test)"
   ]
  },
  {
   "cell_type": "code",
   "execution_count": 40,
   "id": "a3148f99",
   "metadata": {},
   "outputs": [
    {
     "name": "stdout",
     "output_type": "stream",
     "text": [
      "28\n",
      "28\n"
     ]
    },
    {
     "data": {
      "text/plain": [
       "True"
      ]
     },
     "execution_count": 40,
     "metadata": {},
     "output_type": "execute_result"
    }
   ],
   "source": [
    "## Checking the number of feature importances matches the # of columns\n",
    "print(len(reg.feature_importances_))\n",
    "print(len(X_train_df.columns))\n",
    "len(reg.feature_importances_) == len(X_train_df.columns)"
   ]
  },
  {
   "cell_type": "code",
   "execution_count": 41,
   "id": "0529bc84",
   "metadata": {},
   "outputs": [
    {
     "data": {
      "text/plain": [
       "Item_Weight                       0.09\n",
       "Item_Visibility                   0.13\n",
       "Item_MRP                          0.60\n",
       "Outlet_Establishment_Year         0.02\n",
       "Item_Fat_Content_Regular          0.01\n",
       "Item_Type_Baking Goods            0.01\n",
       "Item_Type_Breads                  0.00\n",
       "Item_Type_Breakfast               0.00\n",
       "Item_Type_Canned                  0.01\n",
       "Item_Type_Dairy                   0.01\n",
       "Item_Type_Frozen Foods            0.01\n",
       "Item_Type_Fruits and Vegetables   0.01\n",
       "Item_Type_Hard Drinks             0.00\n",
       "Item_Type_Health and Hygiene      0.00\n",
       "Item_Type_Household               0.01\n",
       "Item_Type_Meat                    0.01\n",
       "Item_Type_Others                  0.00\n",
       "Item_Type_Seafood                 0.00\n",
       "Item_Type_Snack Foods             0.01\n",
       "Item_Type_Soft Drinks             0.00\n",
       "Item_Type_Starchy Foods           0.00\n",
       "Outlet_Size_High                  0.00\n",
       "Outlet_Size_Medium                0.01\n",
       "Outlet_Size_Small                 0.01\n",
       "Outlet_Location_Type_Tier 1       0.01\n",
       "Outlet_Location_Type_Tier 2       0.01\n",
       "Outlet_Location_Type_Tier 3       0.01\n",
       "Outlet_Type_Supermarket Type2     0.01\n",
       "Name: Feature Importance, dtype: float64"
      ]
     },
     "execution_count": 41,
     "metadata": {},
     "output_type": "execute_result"
    }
   ],
   "source": [
    "## Saving the feature importances\n",
    "importances = pd.Series(reg.feature_importances_, index= feature_names,\n",
    "                       name='Feature Importance')\n",
    "importances\n",
    "\n"
   ]
  },
  {
   "cell_type": "code",
   "execution_count": 42,
   "id": "4f14c2d4",
   "metadata": {},
   "outputs": [
    {
     "data": {
      "text/plain": [
       "1.0"
      ]
     },
     "execution_count": 42,
     "metadata": {},
     "output_type": "execute_result"
    }
   ],
   "source": [
    "importances.sum()"
   ]
  },
  {
   "cell_type": "code",
   "execution_count": 43,
   "id": "3e0ad3fa",
   "metadata": {},
   "outputs": [
    {
     "data": {
      "text/plain": [
       "Item_Type_Others                  0.00\n",
       "Item_Type_Seafood                 0.00\n",
       "Item_Type_Starchy Foods           0.00\n",
       "Item_Type_Hard Drinks             0.00\n",
       "Item_Type_Breads                  0.00\n",
       "Outlet_Size_High                  0.00\n",
       "Item_Type_Health and Hygiene      0.00\n",
       "Item_Type_Breakfast               0.00\n",
       "Item_Type_Soft Drinks             0.00\n",
       "Item_Type_Meat                    0.01\n",
       "Outlet_Type_Supermarket Type2     0.01\n",
       "Item_Type_Canned                  0.01\n",
       "Item_Type_Baking Goods            0.01\n",
       "Outlet_Size_Medium                0.01\n",
       "Item_Type_Dairy                   0.01\n",
       "Outlet_Location_Type_Tier 3       0.01\n",
       "Outlet_Location_Type_Tier 2       0.01\n",
       "Item_Type_Household               0.01\n",
       "Item_Type_Frozen Foods            0.01\n",
       "Outlet_Location_Type_Tier 1       0.01\n",
       "Outlet_Size_Small                 0.01\n",
       "Item_Type_Fruits and Vegetables   0.01\n",
       "Item_Type_Snack Foods             0.01\n",
       "Item_Fat_Content_Regular          0.01\n",
       "Outlet_Establishment_Year         0.02\n",
       "Item_Weight                       0.09\n",
       "Item_Visibility                   0.13\n",
       "Item_MRP                          0.60\n",
       "Name: Feature Importance, dtype: float64"
      ]
     },
     "execution_count": 43,
     "metadata": {},
     "output_type": "execute_result"
    }
   ],
   "source": [
    "## Saving the feature importances sorted from smallest to largest (ascending=True)\n",
    "sorted_importance = importances.sort_values()\n",
    "sorted_importance"
   ]
  },
  {
   "cell_type": "code",
   "execution_count": 47,
   "id": "480fa973",
   "metadata": {},
   "outputs": [
    {
     "data": {
      "text/plain": [
       "Item_MRP                    0.60\n",
       "Item_Visibility             0.13\n",
       "Item_Weight                 0.09\n",
       "Outlet_Establishment_Year   0.02\n",
       "Item_Fat_Content_Regular    0.01\n",
       "Name: Feature Importance, dtype: float64"
      ]
     },
     "execution_count": 47,
     "metadata": {},
     "output_type": "execute_result"
    }
   ],
   "source": [
    "importances.sort_values(ascending=False).head(5)"
   ]
  },
  {
   "cell_type": "markdown",
   "id": "02e89346",
   "metadata": {},
   "source": [
    "- These coefficients show the most importance in item MRP relating to the target. These are the 5 most important based off the model."
   ]
  },
  {
   "cell_type": "code",
   "execution_count": 51,
   "id": "083b0e09",
   "metadata": {},
   "outputs": [
    {
     "data": {
      "text/plain": [
       "['random_forest_l01.joblib']"
      ]
     },
     "execution_count": 51,
     "metadata": {},
     "output_type": "execute_result"
    }
   ],
   "source": [
    "## saving variables for next lesson/notebook\n",
    "import joblib\n",
    "## creating a dictionary of all of the variables to save for later\n",
    "export = {'X_train':X_train_df,\n",
    "         'y_train': y_train,\n",
    "         'X_test':X_test_df,\n",
    "          \"y_test\": y_test,\n",
    "         'preprocessor':preprocessor,\n",
    "          'LinearRegression':lin_reg,\n",
    "         'RandomForestRegressor':reg}\n",
    "joblib.dump(export, 'random_forest_l01.joblib')\n",
    "\n"
   ]
  },
  {
   "cell_type": "code",
   "execution_count": null,
   "id": "6661860a",
   "metadata": {},
   "outputs": [],
   "source": []
  }
 ],
 "metadata": {
  "kernelspec": {
   "display_name": "Python (dojo-env)",
   "language": "python",
   "name": "dojo-env"
  },
  "language_info": {
   "codemirror_mode": {
    "name": "ipython",
    "version": 3
   },
   "file_extension": ".py",
   "mimetype": "text/x-python",
   "name": "python",
   "nbconvert_exporter": "python",
   "pygments_lexer": "ipython3",
   "version": "3.9.15"
  },
  "toc": {
   "base_numbering": 1,
   "nav_menu": {},
   "number_sections": false,
   "sideBar": true,
   "skip_h1_title": false,
   "title_cell": "Table of Contents",
   "title_sidebar": "Contents",
   "toc_cell": false,
   "toc_position": {},
   "toc_section_display": true,
   "toc_window_display": false
  }
 },
 "nbformat": 4,
 "nbformat_minor": 5
}
